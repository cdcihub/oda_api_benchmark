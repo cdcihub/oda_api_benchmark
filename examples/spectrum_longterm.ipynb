{
 "cells": [
  {
   "cell_type": "code",
   "execution_count": null,
   "metadata": {},
   "outputs": [],
   "source": [
    "from oda_api.api import DispatcherAPI\n",
    "from oda_api.plot_tools import OdaImage,OdaLightCurve\n",
    "from oda_api.data_products import BinaryData\n",
    "import os\n",
    "from astropy.io import fits\n",
    "import numpy as np\n",
    "from numpy import sqrt\n",
    "import matplotlib.pyplot as plt\n",
    "%matplotlib inline"
   ]
  },
  {
   "cell_type": "code",
   "execution_count": null,
   "metadata": {
    "tags": [
     "parameters"
    ]
   },
   "outputs": [],
   "source": [
    "source_name='NGC 2110'\n",
    "ra=88.047400\n",
    "dec=-7.456247\n",
    "radius=10.\n",
    "Tstart='2003-03-15T00:00:00'\n",
    "Tstop='2018-03-15T00:00:00'\n",
    "E1_keV=30.\n",
    "E2_keV=100.\n",
    "host='https://www.astro.unige.ch/cdci/astrooda/dispatch-data'\n",
    "rebin=10 # minimal significance in energy bin, for spectral plotting"
   ]
  },
  {
   "cell_type": "code",
   "execution_count": null,
   "metadata": {},
   "outputs": [],
   "source": [
    "# try: input = raw_input\n",
    "# except NameError: pass\n",
    "# token=input() # token for restricted access server\n",
    "# cookies=dict(_oauth2_proxy=token)\n",
    "disp=DispatcherAPI(host=host)"
   ]
  },
  {
   "cell_type": "code",
   "execution_count": null,
   "metadata": {},
   "outputs": [],
   "source": [
    "disp=DispatcherAPI(host=host)"
   ]
  },
  {
   "cell_type": "code",
   "execution_count": null,
   "metadata": {},
   "outputs": [],
   "source": [
    "import requests\n",
    "url=\"https://www.astro.unige.ch/cdci/astrooda/dispatch-data/gw/timesystem/api/v1.0/scwlist/cons/\"\n",
    "def queryxtime(**args):\n",
    "    params=Tstart+'/'+Tstop+'?&ra='+str(ra)+'&dec='+str(dec)+'&radius='+str(radius)+'&min_good_isgri=1000'\n",
    "    print(url+params)\n",
    "    return requests.get(url+params).json()\n",
    "#,cookies=cookies"
   ]
  },
  {
   "cell_type": "code",
   "execution_count": null,
   "metadata": {},
   "outputs": [],
   "source": [
    "#if token!='':\n",
    "scwlist=queryxtime()\n",
    "m=len(scwlist)\n",
    "pointings_osa10=[]\n",
    "pointings_osa11=[]\n",
    "for i in range(m):\n",
    "    if scwlist[i][-2:]=='10':\n",
    "        if(int(scwlist[i][:4])<1626):\n",
    "            pointings_osa10.append(scwlist[i]+'.001')\n",
    "        else:\n",
    "            pointings_osa11.append(scwlist[i]+'.001')\n",
    "#else:\n",
    "#    pointings=np.genfromtxt('scws_3C279_isgri_10deg.txt', dtype='str')\n",
    "m_osa10=len(pointings_osa10)\n",
    "m_osa11=len(pointings_osa11)"
   ]
  },
  {
   "cell_type": "code",
   "execution_count": null,
   "metadata": {},
   "outputs": [],
   "source": [
    "scw_lists_osa10=[]\n",
    "scw_lists_osa11=[]\n",
    "count=0\n",
    "scw_string=''\n",
    "for i in range(m_osa10):\n",
    "    if count<50:\n",
    "        scw_string=scw_string+str(pointings_osa10[i])+','\n",
    "        count+=1\n",
    "    else:\n",
    "        scw_lists_osa10.append(scw_string[:-1])\n",
    "        count=1\n",
    "        scw_string=str(pointings_osa10[i])+','\n",
    "scw_lists_osa10.append(scw_string[:-1])\n",
    "print(len(scw_lists_osa10))\n",
    "count=0\n",
    "scw_string=''\n",
    "for i in range(m_osa11):\n",
    "    if count<50:\n",
    "        scw_string=scw_string+str(pointings_osa11[i])+','\n",
    "        count+=1\n",
    "    else:\n",
    "        scw_lists_osa11.append(scw_string[:-1])\n",
    "        count=1\n",
    "        scw_string=str(pointings_osa11[i])+','\n",
    "scw_lists_osa11.append(scw_string[:-1])\n",
    "print(len(scw_lists_osa11))\n",
    "def chunk_swc_list(lst, size):\n",
    "    _l = [lst[x:x+size] for x in range(0, len (lst), size)]\n",
    "    for ID,_ in enumerate(_l):\n",
    "        _l[ID]=','.join(_)\n",
    "       \n",
    "    return _l"
   ]
  },
  {
   "cell_type": "code",
   "execution_count": null,
   "metadata": {},
   "outputs": [],
   "source": [
    "scw_lists_osa10=chunk_swc_list(pointings_osa10, 50)\n",
    "scw_lists_osa11=chunk_swc_list(pointings_osa11, 50)"
   ]
  },
  {
   "cell_type": "code",
   "execution_count": null,
   "metadata": {},
   "outputs": [],
   "source": [
    "data=disp.get_product(instrument='isgri',\n",
    "                      product='isgri_image',\n",
    "                      scw_list=scw_lists_osa10[0],\n",
    "                      E1_keV=E1_keV,\n",
    "                      E2_keV=E2_keV,\n",
    "                      osa_version='OSA10.2',\n",
    "                      RA=ra,\n",
    "                      DEC=dec,\n",
    "                      detection_threshold=3.5,\n",
    "                      product_type='Real')"
   ]
  },
  {
   "cell_type": "code",
   "execution_count": null,
   "metadata": {
    "scrolled": true
   },
   "outputs": [],
   "source": [
    "data.dispatcher_catalog_1.table\n",
    "\n"
   ]
  },
  {
   "cell_type": "code",
   "execution_count": null,
   "metadata": {},
   "outputs": [],
   "source": [
    "FLAG=0\n",
    "torm=[]\n",
    "for ID,n in enumerate(data.dispatcher_catalog_1.table['src_names']):\n",
    "    if(n=='NEW_1'):\n",
    "        torm.append(ID)\n",
    "    if(n==source_name):\n",
    "        FLAG=1\n",
    "data.dispatcher_catalog_1.table.remove_rows(torm)\n",
    "\n",
    "nrows=len(data.dispatcher_catalog_1.table['src_names'])\n",
    "print(nrows)\n",
    "print(FLAG)"
   ]
  },
  {
   "cell_type": "code",
   "execution_count": null,
   "metadata": {},
   "outputs": [],
   "source": [
    "if FLAG==0:\n",
    "    data.dispatcher_catalog_1.table.add_row((0,'3C 279',0,ra,dec,0,2,0,0))\n",
    "    \n",
    "data.dispatcher_catalog_1.table    "
   ]
  },
  {
   "cell_type": "code",
   "execution_count": null,
   "metadata": {},
   "outputs": [],
   "source": [
    "api_cat=data.dispatcher_catalog_1.get_api_dictionary()"
   ]
  },
  {
   "cell_type": "code",
   "execution_count": null,
   "metadata": {
    "scrolled": false
   },
   "outputs": [],
   "source": [
    "spectrum_results=[]\n",
    "for i in range(len(scw_lists_osa10)):\n",
    "    print(i)\n",
    "    data=disp.get_product(instrument='isgri',\n",
    "                        product='isgri_spectrum',\n",
    "                        scw_list=scw_lists_osa10[i],\n",
    "                        query_type='Real',\n",
    "                        osa_version='OSA10.2',\n",
    "                        RA=ra,\n",
    "                        DEC=dec,\n",
    "                        product_type='Real',\n",
    "                        selected_catalog=api_cat)\n",
    "    spectrum_results.append(data)"
   ]
  },
  {
   "cell_type": "code",
   "execution_count": null,
   "metadata": {},
   "outputs": [],
   "source": [
    "d=spectrum_results[0]\n",
    "for ID,s in enumerate(d._p_list):\n",
    "    if (s.meta_data['src_name']==source_name):\n",
    "        if(s.meta_data['product']=='isgri_spectrum'):\n",
    "            ID_spec=ID\n",
    "        if(s.meta_data['product']=='isgri_arf'):\n",
    "            ID_arf=ID\n",
    "        if(s.meta_data['product']=='isgri_rmf'):\n",
    "            ID_rmf=ID\n",
    "\n",
    "print(ID_spec, ID_arf, ID_rmf)\n",
    "\n",
    "                                             "
   ]
  },
  {
   "cell_type": "code",
   "execution_count": null,
   "metadata": {},
   "outputs": [],
   "source": [
    "d=spectrum_results[0]\n",
    "spec=d._p_list[ID_spec].data_unit[1].data\n",
    "arf=d._p_list[ID_arf].data_unit[1].data\n",
    "rmf=d._p_list[ID_rmf].data_unit[2].data\n",
    "ch=spec['CHANNEL']\n",
    "rate=spec['RATE']*0.\n",
    "err=spec['STAT_ERR']*0.\n",
    "syst=spec['SYS_ERR']*0.\n",
    "rate.fill(0)\n",
    "err.fill(0)\n",
    "syst.fill(0)\n",
    "qual=spec['QUALITY']\n",
    "matrix=rmf['MATRIX']*0.\n",
    "specresp=arf['SPECRESP']*0.\n",
    "tot_expos=0.\n",
    "corr_expos=np.zeros(len(rate))\n",
    "print(len(rate))\n",
    "for k in range(len(scw_lists_osa10)):\n",
    "    d=spectrum_results[k]\n",
    "    spec=d._p_list[ID_spec].data_unit[1].data\n",
    "    arf=d._p_list[ID_arf].data_unit[1].data\n",
    "    rmf=d._p_list[ID_rmf].data_unit[2].data\n",
    "    expos=d._p_list[0].data_unit[1].header['EXPOSURE']\n",
    "    tot_expos=tot_expos+expos\n",
    "    print(k,expos)\n",
    "    for j in range(len(rate)):\n",
    "        if(spec['QUALITY'][j]==0):          \n",
    "            rate[j]=rate[j]+spec['RATE'][j]/(spec['STAT_ERR'][j])**2\n",
    "            err[j]=err[j]+1./(spec['STAT_ERR'][j])**2\n",
    "            syst[j]=syst[j]+(spec['SYS_ERR'][j])**2*expos\n",
    "            corr_expos[j]=corr_expos[j]+expos\n",
    "    matrix=matrix+rmf['MATRIX']*expos\n",
    "    specresp=specresp+arf['SPECRESP']*expos\n",
    "\n",
    "for i in range(len(rate)):\n",
    "    if err[i]>0.:\n",
    "        rate[i]=rate[i]/err[i]\n",
    "        err[i]=1./sqrt(err[i])\n",
    "matrix=matrix/tot_expos\n",
    "specresp=specresp/tot_expos\n",
    "syst=sqrt(syst/(corr_expos+1.))\n",
    "print('Total exposure:',tot_expos)"
   ]
  },
  {
   "cell_type": "code",
   "execution_count": null,
   "metadata": {},
   "outputs": [],
   "source": [
    "print(rate)\n",
    "print(err)"
   ]
  },
  {
   "cell_type": "code",
   "execution_count": null,
   "metadata": {},
   "outputs": [],
   "source": [
    "d._p_list[ID_spec].data_unit[1].data['RATE']=rate\n",
    "d._p_list[ID_spec].data_unit[1].data['STAT_ERR']=err\n",
    "d._p_list[ID_rmf].data_unit[2].data['MATRIX']=matrix\n",
    "d._p_list[ID_arf].data_unit[1].data['SPECRESP']=specresp"
   ]
  },
  {
   "cell_type": "code",
   "execution_count": null,
   "metadata": {},
   "outputs": [],
   "source": [
    "name=source_name.replace(\" \", \"\")\n",
    "specname=name+'_spectrum_osa10.fits'\n",
    "arfname=name+'_arf_osa10.fits.gz'\n",
    "rmfname=name+'_rmf_osa10.fits.gz'\n",
    "data._p_list[ID_spec].write_fits_file(specname)\n",
    "data._p_list[ID_arf].write_fits_file(arfname)\n",
    "data._p_list[ID_rmf].write_fits_file(rmfname)"
   ]
  },
  {
   "cell_type": "code",
   "execution_count": null,
   "metadata": {},
   "outputs": [],
   "source": [
    "hdul = fits.open(specname, mode='update')\n",
    "hdr=hdul[1].header\n",
    "hdr.set('EXPOSURE', tot_expos)\n",
    "hdul.close()\n"
   ]
  },
  {
   "cell_type": "code",
   "execution_count": null,
   "metadata": {
    "scrolled": false
   },
   "outputs": [],
   "source": [
    "!./spectrum_fit_osa10.sh $name $rebin"
   ]
  },
  {
   "cell_type": "code",
   "execution_count": null,
   "metadata": {
    "scrolled": false
   },
   "outputs": [],
   "source": [
    "spectrum_results1=[]\n",
    "for i in range(len(scw_lists_osa11)):\n",
    "    print(i)\n",
    "    data=disp.get_product(instrument='isgri',\n",
    "                        product='isgri_spectrum',\n",
    "                        scw_list=scw_lists_osa11[i],\n",
    "                        query_type='Real',\n",
    "                        osa_version='OSA11.0',\n",
    "                        RA=ra,\n",
    "                        DEC=dec,\n",
    "                        product_type='Real',\n",
    "                        selected_catalog=api_cat)\n",
    "    spectrum_results1.append(data)"
   ]
  },
  {
   "cell_type": "code",
   "execution_count": null,
   "metadata": {},
   "outputs": [],
   "source": [
    "d=spectrum_results1[0]\n",
    "for ID,s in enumerate(d._p_list):\n",
    "    if (s.meta_data['src_name']==source_name):\n",
    "        if(s.meta_data['product']=='isgri_spectrum'):\n",
    "            ID_spec=ID\n",
    "        if(s.meta_data['product']=='isgri_arf'):\n",
    "            ID_arf=ID\n",
    "        if(s.meta_data['product']=='isgri_rmf'):\n",
    "            ID_rmf=ID\n",
    "\n",
    "print(ID_spec, ID_arf, ID_rmf)\n",
    "\n"
   ]
  },
  {
   "cell_type": "code",
   "execution_count": null,
   "metadata": {},
   "outputs": [],
   "source": [
    "d=spectrum_results1[0]\n",
    "spec=d._p_list[ID_spec].data_unit[1].data\n",
    "arf=d._p_list[ID_arf].data_unit[1].data\n",
    "rmf=d._p_list[ID_rmf].data_unit[2].data\n",
    "ch=spec['CHANNEL']\n",
    "rate=spec['RATE']*0.\n",
    "err=spec['STAT_ERR']*0.\n",
    "syst=spec['SYS_ERR']*0.\n",
    "rate.fill(0)\n",
    "err.fill(0)\n",
    "syst.fill(0)\n",
    "qual=spec['QUALITY']\n",
    "matrix=rmf['MATRIX']*0.\n",
    "specresp=arf['SPECRESP']*0.\n",
    "tot_expos=0.\n",
    "corr_expos=np.zeros(len(rate))\n",
    "print(len(rate))\n",
    "for k in range(len(scw_lists_osa11)):\n",
    "    d=spectrum_results1[k]\n",
    "    spec=d._p_list[ID_spec].data_unit[1].data\n",
    "    arf=d._p_list[ID_arf].data_unit[1].data\n",
    "    rmf=d._p_list[ID_rmf].data_unit[2].data\n",
    "    expos=d._p_list[0].data_unit[1].header['EXPOSURE']\n",
    "    tot_expos=tot_expos+expos\n",
    "    print(k,expos)\n",
    "    for j in range(len(rate)):\n",
    "        if(spec['QUALITY'][j]==0):          \n",
    "            rate[j]=rate[j]+spec['RATE'][j]/(spec['STAT_ERR'][j])**2\n",
    "            err[j]=err[j]+1./(spec['STAT_ERR'][j])**2\n",
    "            syst[j]=syst[j]+(spec['SYS_ERR'][j])**2*expos\n",
    "            corr_expos[j]=corr_expos[j]+expos\n",
    "    matrix=matrix+rmf['MATRIX']*expos\n",
    "    specresp=specresp+arf['SPECRESP']*expos\n",
    "\n",
    "for i in range(len(rate)):\n",
    "    if err[i]>0.:\n",
    "        rate[i]=rate[i]/err[i]\n",
    "        err[i]=1./sqrt(err[i])\n",
    "matrix=matrix/tot_expos\n",
    "specresp=specresp/tot_expos\n",
    "syst=sqrt(syst/(corr_expos+1.))\n",
    "print('Total exposure:',tot_expos)"
   ]
  },
  {
   "cell_type": "code",
   "execution_count": null,
   "metadata": {},
   "outputs": [],
   "source": [
    "print(rate)\n",
    "print(err)"
   ]
  },
  {
   "cell_type": "code",
   "execution_count": null,
   "metadata": {},
   "outputs": [],
   "source": [
    "d._p_list[ID_spec].data_unit[1].data['RATE']=rate\n",
    "d._p_list[ID_spec].data_unit[1].data['STAT_ERR']=err\n",
    "d._p_list[ID_rmf].data_unit[2].data['MATRIX']=matrix\n",
    "d._p_list[ID_arf].data_unit[1].data['SPECRESP']=specresp"
   ]
  },
  {
   "cell_type": "code",
   "execution_count": null,
   "metadata": {},
   "outputs": [],
   "source": [
    "name=source_name.replace(\" \", \"\")\n",
    "specname=name+'_spectrum_osa11.fits'\n",
    "arfname=name+'_arf_osa11.fits.gz'\n",
    "rmfname=name+'_rmf_osa11.fits.gz'\n",
    "data._p_list[ID_spec].write_fits_file(specname)\n",
    "data._p_list[ID_arf].write_fits_file(arfname)\n",
    "data._p_list[ID_rmf].write_fits_file(rmfname)"
   ]
  },
  {
   "cell_type": "code",
   "execution_count": null,
   "metadata": {},
   "outputs": [],
   "source": [
    "hdul = fits.open(specname, mode='update')\n",
    "hdr=hdul[1].header\n",
    "hdr.set('EXPOSURE', tot_expos)\n",
    "hdul.close()"
   ]
  },
  {
   "cell_type": "code",
   "execution_count": null,
   "metadata": {
    "scrolled": false
   },
   "outputs": [],
   "source": [
    "!./spectrum_fit_osa11.sh $name $rebin"
   ]
  },
  {
   "cell_type": "code",
   "execution_count": null,
   "metadata": {},
   "outputs": [],
   "source": [
    "plt.figure(figsize=(10,7))\n",
    "\n",
    "spectrum=np.genfromtxt(name+'_spectrum_osa10.txt',skip_header=3)\n",
    "en=spectrum[:,0]\n",
    "en_err=spectrum[:,1]\n",
    "fl=spectrum[:,2]\n",
    "fl_err=spectrum[:,3]\n",
    "mo=spectrum[:,4]\n",
    "plt.errorbar(en,fl,xerr=en_err,yerr=fl_err,linestyle='none',linewidth=8,color='black',alpha=0.5,label='OSA 10.2 (2003-2015)')\n",
    "plt.plot(en,mo,color='black',linewidth=4)\n",
    "\n",
    "spectrum=np.genfromtxt(name+'_spectrum_osa11.txt',skip_header=3)\n",
    "en=spectrum[:,0]\n",
    "en_err=spectrum[:,1]\n",
    "fl=spectrum[:,2]\n",
    "fl_err=spectrum[:,3]\n",
    "mo=spectrum[:,4]\n",
    "plt.errorbar(en,fl,xerr=en_err,yerr=fl_err,linestyle='none',linewidth=8,color='blue',alpha=0.5,\n",
    "             label='OSA 11.0 (2016-2018)')\n",
    "plt.plot(en,mo,color='blue',linewidth=4)\n",
    "\n",
    "\n",
    "plt.tick_params(axis='both', which='major', labelsize=16)\n",
    "plt.xscale('log')\n",
    "plt.yscale('log')\n",
    "plt.ylim(1.e-3,6.e-1)\n",
    "plt.xlim(15,350)\n",
    "plt.xlabel('$E$, keV',fontsize=16)\n",
    "plt.ylabel('$E^2F_E$, keV/(cm$^2$s)',fontsize=16)\n",
    "plt.legend(loc='lower left',fontsize=16)\n",
    "plt.savefig(name+'_spectrum.pdf',format='pdf',dpi=100)\n",
    "\n",
    "\n"
   ]
  },
  {
   "cell_type": "code",
   "execution_count": null,
   "metadata": {
    "tags": [
     "outputs"
    ]
   },
   "outputs": [],
   "source": [
    "spectrum_pdf=name+'_spectrum.pdf'"
   ]
  }
 ],
 "metadata": {
  "celltoolbar": "Tags",
  "kernelspec": {
   "display_name": "Python 3",
   "language": "python",
   "name": "python3"
  },
  "language_info": {
   "codemirror_mode": {
    "name": "ipython",
    "version": 3
   },
   "file_extension": ".py",
   "mimetype": "text/x-python",
   "name": "python",
   "nbconvert_exporter": "python",
   "pygments_lexer": "ipython3",
   "version": "3.8.5"
  }
 },
 "nbformat": 4,
 "nbformat_minor": 2
}
