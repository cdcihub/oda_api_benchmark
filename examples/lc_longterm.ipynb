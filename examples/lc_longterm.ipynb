{
 "cells": [
  {
   "cell_type": "code",
   "execution_count": null,
   "metadata": {},
   "outputs": [],
   "source": [
    "from oda_api.api import DispatcherAPI\n",
    "from oda_api.plot_tools import OdaImage,OdaLightCurve\n",
    "from oda_api.data_products import BinaryData\n",
    "import os\n",
    "from astropy.io import fits\n",
    "import numpy as np\n",
    "from numpy import sqrt,exp\n",
    "import matplotlib.pyplot as plt\n",
    "%matplotlib inline"
   ]
  },
  {
   "cell_type": "code",
   "execution_count": null,
   "metadata": {
    "tags": [
     "parameters"
    ]
   },
   "outputs": [],
   "source": [
    "source_name='NGC 2110'\n",
    "ra=88.047400\n",
    "dec=-7.456247\n",
    "radius=10.\n",
    "Tstart='2003-03-15T00:00:00'\n",
    "Tstop='2018-03-15T00:00:00'\n",
    "host='https://www.astro.unige.ch/cdci/astrooda/dispatch-data'\n",
    "time_bin=10000\n",
    "Nbibs=16 # number of time bin in the long-term lightcurve\n",
    "E1_keV=30.\n",
    "E2_keV=100."
   ]
  },
  {
   "cell_type": "code",
   "execution_count": null,
   "metadata": {},
   "outputs": [],
   "source": [
    "# try: input = raw_input\n",
    "# except NameError: pass\n",
    "# token=input() # token for restricted access server\n",
    "# cookies=dict(_oauth2_proxy=token)\n",
    "disp=DispatcherAPI(host=host)"
   ]
  },
  {
   "cell_type": "code",
   "execution_count": null,
   "metadata": {},
   "outputs": [],
   "source": [
    "disp=DispatcherAPI(host=host)"
   ]
  },
  {
   "cell_type": "code",
   "execution_count": null,
   "metadata": {},
   "outputs": [],
   "source": [
    "import requests\n",
    "url=\"https://www.astro.unige.ch/cdci/astrooda/dispatch-data/gw/timesystem/api/v1.0/scwlist/cons/\"\n",
    "def queryxtime(**args):\n",
    "    params=Tstart+'/'+Tstop+'?&ra='+str(ra)+'&dec='+str(dec)+'&radius='+str(radius)+'&min_good_isgri=1000'\n",
    "    print(url+params)\n",
    "    return requests.get(url+params).json()\n",
    "#,cookies=cookies"
   ]
  },
  {
   "cell_type": "code",
   "execution_count": null,
   "metadata": {},
   "outputs": [],
   "source": [
    "#if token!='':\n",
    "scwlist=queryxtime()\n",
    "m=len(scwlist)\n",
    "pointings_osa10=[]\n",
    "pointings_osa11=[]\n",
    "for i in range(m):\n",
    "    if scwlist[i][-2:]=='10':\n",
    "        if(int(scwlist[i][:4])<1626):\n",
    "            pointings_osa10.append(scwlist[i]+'.001')\n",
    "        else:\n",
    "            pointings_osa11.append(scwlist[i]+'.001')\n",
    "m_osa10=len(pointings_osa10)\n",
    "m_osa11=len(pointings_osa11)"
   ]
  },
  {
   "cell_type": "code",
   "execution_count": null,
   "metadata": {},
   "outputs": [],
   "source": [
    "scw_lists_osa10=[]\n",
    "scw_lists_osa11=[]\n",
    "count=0\n",
    "scw_string=''\n",
    "for i in range(m_osa10):\n",
    "    if count<50:\n",
    "        scw_string=scw_string+str(pointings_osa10[i])+','\n",
    "        count+=1\n",
    "    else:\n",
    "        scw_lists_osa10.append(scw_string[:-1])\n",
    "        count=1\n",
    "        scw_string=str(pointings_osa10[i])+','\n",
    "scw_lists_osa10.append(scw_string[:-1])\n",
    "print(len(scw_lists_osa10))\n",
    "count=0\n",
    "scw_string=''\n",
    "for i in range(m_osa11):\n",
    "    if count<50:\n",
    "        scw_string=scw_string+str(pointings_osa11[i])+','\n",
    "        count+=1\n",
    "    else:\n",
    "        scw_lists_osa11.append(scw_string[:-1])\n",
    "        count=1\n",
    "        scw_string=str(pointings_osa11[i])+','\n",
    "scw_lists_osa11.append(scw_string[:-1])\n",
    "print(len(scw_lists_osa11))\n",
    "\n",
    "\n",
    "\n",
    "\n"
   ]
  },
  {
   "cell_type": "code",
   "execution_count": null,
   "metadata": {},
   "outputs": [],
   "source": [
    "data=disp.get_product(instrument='isgri',\n",
    "                      product='isgri_image',\n",
    "                      scw_list=scw_lists_osa10[0],\n",
    "                      E1_keV=E1_keV,\n",
    "                      E2_keV=E2_keV,\n",
    "                      osa_version='OSA10.2',\n",
    "                      RA=ra,\n",
    "                      DEC=dec,\n",
    "                      detection_threshold=3.5,\n",
    "                      product_type='Real')"
   ]
  },
  {
   "cell_type": "code",
   "execution_count": null,
   "metadata": {},
   "outputs": [],
   "source": [
    "data.dispatcher_catalog_1.table"
   ]
  },
  {
   "cell_type": "code",
   "execution_count": null,
   "metadata": {},
   "outputs": [],
   "source": [
    "FLAG=0\n",
    "torm=[]\n",
    "for ID,n in enumerate(data.dispatcher_catalog_1.table['src_names']):\n",
    "    if(n[0:2]=='NEW'):\n",
    "        torm.append(ID)\n",
    "    if(n==source_name):\n",
    "        FLAG=1\n",
    "data.dispatcher_catalog_1.table.remove_rows(torm)\n",
    "nrows=len(data.dispatcher_catalog_1.table['src_names'])"
   ]
  },
  {
   "cell_type": "code",
   "execution_count": null,
   "metadata": {},
   "outputs": [],
   "source": [
    "if FLAG==0:\n",
    "    data.dispatcher_catalog_1.table.add_row((0,'3C 279',0,ra,dec,0,2,0,0))\n",
    "\n",
    "data.dispatcher_catalog_1.table\n"
   ]
  },
  {
   "cell_type": "code",
   "execution_count": null,
   "metadata": {},
   "outputs": [],
   "source": [
    "api_cat=data.dispatcher_catalog_1.get_api_dictionary()"
   ]
  },
  {
   "cell_type": "code",
   "execution_count": null,
   "metadata": {},
   "outputs": [],
   "source": [
    "lc_results=[]\n",
    "for i in range(len(scw_lists_osa10)):\n",
    "    print(i)\n",
    "    data=disp.get_product(instrument='isgri',\n",
    "                        product='isgri_lc',\n",
    "                        scw_list=scw_lists_osa10[i],\n",
    "                        E1_keV=E1_keV,\n",
    "                        E2_keV=E2_keV,\n",
    "                        query_type='Real',\n",
    "                        osa_version='OSA10.2',\n",
    "                        RA=ra,\n",
    "                        DEC=dec,\n",
    "                        product_type='Real',\n",
    "                        time_bin=time_bin,\n",
    "                        selected_catalog=api_cat)\n",
    "    lc_results.append(data)\n",
    "    \n"
   ]
  },
  {
   "cell_type": "code",
   "execution_count": null,
   "metadata": {},
   "outputs": [],
   "source": [
    "for i in range(len(scw_lists_osa11)):\n",
    "    print(i)\n",
    "    data=disp.get_product(instrument='isgri',\n",
    "                        product='isgri_lc',\n",
    "                        scw_list=scw_lists_osa11[i],\n",
    "                        E1_keV=E1_keV,\n",
    "                        E2_keV=E2_keV,\n",
    "                        query_type='Real',\n",
    "                        osa_version='OSA11.0',\n",
    "                        RA=ra,\n",
    "                        DEC=dec,\n",
    "                        product_type='Real',\n",
    "                        time_bin=time_bin,\n",
    "                        selected_catalog=api_cat)\n",
    "    lc_results.append(data)\n",
    "\n"
   ]
  },
  {
   "cell_type": "code",
   "execution_count": null,
   "metadata": {},
   "outputs": [],
   "source": [
    "t=[]\n",
    "r=[]\n",
    "err=[]\n",
    "tot_counts=[]\n",
    "backv=[]\n",
    "backe=[]\n",
    "i=0\n",
    "for lc in lc_results:\n",
    "    for ID,s in enumerate(lc._p_list):\n",
    "        if s.meta_data['src_name']==source_name:\n",
    "            i=i+1\n",
    "            for tt in s.data_unit[1].data['TIME']:\n",
    "                t.append(tt)\n",
    "            for rr in s.data_unit[1].data['RATE']:\n",
    "                r.append(rr)\n",
    "            for ee in s.data_unit[1].data['ERROR']:\n",
    "                err.append(ee)\n",
    "            for tc in s.data_unit[1].data['TOT_COUNTS']:\n",
    "                tot_counts.append(tc)\n",
    "            for bv in s.data_unit[1].data['BACKV']:\n",
    "                backv.append(bv)\n",
    "            for be in s.data_unit[1].data['BACKE']:\n",
    "                backe.append(be)\n",
    "t=np.array(t)\n",
    "r=np.array(r)\n",
    "err=np.array(err)\n",
    "tot_counts=np.array(tot_counts)\n",
    "backv=np.array(backv)\n",
    "backe=np.array(backe)"
   ]
  },
  {
   "cell_type": "code",
   "execution_count": null,
   "metadata": {},
   "outputs": [],
   "source": [
    "fig = plt.figure(figsize=(10,7))\n",
    "t0=51544\n",
    "Nbins=16\n",
    "tmin=t0+t[0]\n",
    "tmax=t0+t[-1]\n",
    "time=np.linspace(tmin,tmax,Nbins)\n",
    "dtime=time[1]-time[0]\n",
    "time_av=time-dtime/2.\n",
    "flux=np.zeros(Nbins)\n",
    "error=np.zeros(Nbins)\n",
    "j=0\n",
    "sc=1.\n",
    "\n",
    "k=0\n",
    "while (j<len(time)):\n",
    "    while ((t[k]+t0<time[j])):\n",
    "        if (err[k]>0.):\n",
    "            flux[j]=flux[j]+r[k]/(err[k])**2\n",
    "            error[j]=error[j]+1./(err[k])**2\n",
    "        k=k+1\n",
    "        if (k==len(t)):\n",
    "            break\n",
    "    if (k==len(t)):\n",
    "        break\n",
    "    else:\n",
    "        j=j+1\n",
    "plt.errorbar(t+t0,r*exp((t+t0-52900)/40000.),yerr=err*exp((t+t0-52900)/40000.),linestyle='none',color='black',alpha=0.03,linewidth=2)\n",
    "\n",
    "for i in range(len(flux)):\n",
    "    if(error[i]>0.):\n",
    "        flux[i]=flux[i]/(error[i])*exp((time_av[i]-52900)/40000.)\n",
    "        error[i]=1./sqrt(error[i])*exp((time_av[i]-52900)/40000.)\n",
    "\n",
    "ind=error>0\n",
    "plt.errorbar(time_av[ind],flux[ind],yerr=error[ind],xerr=dtime/2.,linestyle='none',color='red',alpha=0.7,linewidth=4)\n",
    "#plt.plot(time_av,exp((time_av-52900)/40000.)/2)\n",
    "plt.tick_params(axis='both', which='major', labelsize=16)\n",
    "ymax=1.5*max(flux+error)\n",
    "plt.ylim(-0.1,ymax)\n",
    "plt.xlabel('Time, MJD',fontsize=16)\n",
    "plt.ylabel('Rate, cts/s',fontsize=16)\n",
    "plt.text(tmin,0.9*ymax, str(E1_keV)+'-'+str(E2_keV)+' keV',fontsize=16)\n",
    "plt.text(tmin,0.8*ymax, source_name,fontsize=16)\n",
    "\n",
    "name=source_name.replace(\" \", \"\")\n",
    "plt.savefig(name+'_lc.pdf',format='pdf',dpi=100)\n",
    "\n",
    "\n"
   ]
  },
  {
   "cell_type": "code",
   "execution_count": null,
   "metadata": {
    "tags": [
     "outputs"
    ]
   },
   "outputs": [],
   "source": [
    "lc_3C279=name+'_lc.pdf'"
   ]
  }
 ],
 "metadata": {
  "celltoolbar": "Tags",
  "kernelspec": {
   "display_name": "Python 3",
   "language": "python",
   "name": "python3"
  },
  "language_info": {
   "codemirror_mode": {
    "name": "ipython",
    "version": 3
   },
   "file_extension": ".py",
   "mimetype": "text/x-python",
   "name": "python",
   "nbconvert_exporter": "python",
   "pygments_lexer": "ipython3",
   "version": "3.6.9"
  }
 },
 "nbformat": 4,
 "nbformat_minor": 2
}
