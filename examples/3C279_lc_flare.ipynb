{
 "cells": [
  {
   "cell_type": "code",
   "execution_count": 1,
   "metadata": {},
   "outputs": [],
   "source": [
    "from oda_api.api import DispatcherAPI\n",
    "from oda_api.plot_tools import OdaImage,OdaLightCurve\n",
    "from oda_api.data_products import BinaryData\n",
    "import os\n",
    "from astropy.io import fits\n",
    "import numpy as np\n",
    "from numpy import sqrt,exp\n",
    "import matplotlib.pyplot as plt\n",
    "%matplotlib inline"
   ]
  },
  {
   "cell_type": "code",
   "execution_count": 2,
   "metadata": {
    "tags": [
     "parameters"
    ]
   },
   "outputs": [],
   "source": [
    "source_name='3C 279'\n",
    "ra=194.046527\n",
    "dec=-5.789314\n",
    "radius=15.\n",
    "Tstart='2015-06-01T00:00:00'\n",
    "Tstop='2015-06-30T00:00:00'\n",
    "host='https://www.astro.unige.ch/cdci/astrooda/dispatch-data'\n",
    "time_bin=10000\n",
    "Nbins=7 # number of time bin in the long-term lightcurve\n",
    "E1_keV=20.\n",
    "E2_keV=100."
   ]
  },
  {
   "cell_type": "code",
   "execution_count": 3,
   "metadata": {},
   "outputs": [],
   "source": [
    "# try: input = raw_input\n",
    "# except NameError: pass\n",
    "# token=input() # token for restricted access server\n",
    "# cookies=dict(_oauth2_proxy=token)\n",
    "disp=DispatcherAPI(host=host)"
   ]
  },
  {
   "cell_type": "code",
   "execution_count": 4,
   "metadata": {},
   "outputs": [],
   "source": [
    "disp=DispatcherAPI(host=host)"
   ]
  },
  {
   "cell_type": "code",
   "execution_count": 5,
   "metadata": {},
   "outputs": [],
   "source": [
    "import requests\n",
    "url=\"https://www.astro.unige.ch/cdci/astrooda/dispatch-data/gw/timesystem/api/v1.0/scwlist/cons/\"\n",
    "def queryxtime(**args):\n",
    "    params=Tstart+'/'+Tstop+'?&ra='+str(ra)+'&dec='+str(dec)+'&radius='+str(radius)+'&min_good_isgri=100'\n",
    "    print(url+params)\n",
    "    return requests.get(url+params).json()\n",
    "#,cookies=cookies"
   ]
  },
  {
   "cell_type": "code",
   "execution_count": 6,
   "metadata": {},
   "outputs": [
    {
     "name": "stdout",
     "output_type": "stream",
     "text": [
      "https://www.astro.unige.ch/cdci/astrooda/dispatch-data/gw/timesystem/api/v1.0/scwlist/cons/2015-06-01T00:00:00/2015-06-30T00:00:00?&ra=194.046527&dec=-5.789314&radius=15.0&min_good_isgri=100\n"
     ]
    }
   ],
   "source": [
    "scwlist=queryxtime()\n",
    "m=len(scwlist)\n",
    "pointings_osa10=[]\n",
    "pointings_osa11=[]\n",
    "for i in range(m):\n",
    "    if scwlist[i][-2:]=='10':\n",
    "        if(int(scwlist[i][:4])<1626):\n",
    "            pointings_osa10.append(scwlist[i]+'.001')\n",
    "        else:\n",
    "            pointings_osa11.append(scwlist[i]+'.001')\n",
    "#else:\n",
    "#    pointings=np.genfromtxt('scws_3C279_isgri_10deg.txt', dtype='str')\n",
    "m_osa10=len(pointings_osa10)\n",
    "m_osa11=len(pointings_osa11)"
   ]
  },
  {
   "cell_type": "code",
   "execution_count": 7,
   "metadata": {},
   "outputs": [
    {
     "name": "stdout",
     "output_type": "stream",
     "text": [
      "2\n",
      "1\n"
     ]
    }
   ],
   "source": [
    "scw_lists_osa10=[]\n",
    "scw_lists_osa11=[]\n",
    "count=0\n",
    "scw_string=''\n",
    "for i in range(m_osa10):\n",
    "    if count<50:\n",
    "        scw_string=scw_string+str(pointings_osa10[i])+','\n",
    "        count+=1\n",
    "    else:\n",
    "        scw_lists_osa10.append(scw_string[:-1])\n",
    "        count=1\n",
    "        scw_string=str(pointings_osa10[i])+','\n",
    "scw_lists_osa10.append(scw_string[:-1])\n",
    "print(len(scw_lists_osa10))\n",
    "count=0\n",
    "scw_string=''\n",
    "for i in range(m_osa11):\n",
    "    if count<50:\n",
    "        scw_string=scw_string+str(pointings_osa11[i])+','\n",
    "        count+=1\n",
    "    else:\n",
    "        scw_lists_osa11.append(scw_string[:-1])\n",
    "        count=0\n",
    "        scw_string=str(pointings_osa11[i])+','\n",
    "scw_lists_osa11.append(scw_string[:-1])\n",
    "print(len(scw_lists_osa11))"
   ]
  },
  {
   "cell_type": "code",
   "execution_count": 8,
   "metadata": {},
   "outputs": [
    {
     "name": "stdout",
     "output_type": "stream",
     "text": [
      "154700450010.001,154800040010.001,154800050010.001,154800060010.001,154800070010.001,154800080010.001,154800140010.001,154800150010.001,154800160010.001,154800170010.001,154800250010.001,154800460010.001,154900050010.001,154900060010.001,154900070010.001,154900080010.001,154900090010.001,154900140010.001,154900150010.001,154900160010.001,154900170010.001,154900180010.001,154900260010.001,154900470010.001,155000070010.001,155000080010.001,155000090010.001,155000100010.001,155000160010.001,155000170010.001,155000180010.001,155000190010.001,155000200010.001,155000210010.001,155000320010.001,155000330010.001,155000340010.001,155100080010.001,155100090010.001,155100200010.001,155100210010.001,155100220010.001,155100230010.001,155100240010.001,155200020010.001,155200100010.001,155200110010.001,155200120010.001,155200130010.001,155200140010.001\n",
      "waiting for remote response, please wait run_analysis https://www.astro.unige.ch/cdci/astrooda/dispatch-data\n",
      "the job has been submitted on the remote server\n",
      " | the job is working remotely, please wait status=done - job_id=6027077080652038250  250 \n",
      "\n",
      "query done succesfully!\n"
     ]
    }
   ],
   "source": [
    "data=disp.get_product(instrument='isgri',\n",
    "                      product='isgri_image',\n",
    "                      scw_list=scw_lists_osa10[0],\n",
    "                      E1_keV=E1_keV,\n",
    "                      E2_keV=E2_keV,\n",
    "                      osa_version='OSA10.2',\n",
    "                      RA=ra,\n",
    "                      DEC=dec,\n",
    "                      detection_threshold=3,\n",
    "                      product_type='Real')"
   ]
  },
  {
   "cell_type": "code",
   "execution_count": 9,
   "metadata": {
    "scrolled": true
   },
   "outputs": [
    {
     "data": {
      "text/html": [
       "<i>Table length=20</i>\n",
       "<table id=\"table140252310737296\" class=\"table-striped table-bordered table-condensed\">\n",
       "<thead><tr><th>meta_ID</th><th>src_names</th><th>significance</th><th>ra</th><th>dec</th><th>NEW_SOURCE</th><th>ISGRI_FLAG</th><th>FLAG</th><th>ERR_RAD</th></tr></thead>\n",
       "<thead><tr><th></th><th></th><th></th><th>deg</th><th>deg</th><th></th><th></th><th></th><th></th></tr></thead>\n",
       "<thead><tr><th>int64</th><th>str15</th><th>float64</th><th>float64</th><th>float64</th><th>int64</th><th>int64</th><th>int64</th><th>object</th></tr></thead>\n",
       "<tr><td>2</td><td>3C 273</td><td>12.550069808959961</td><td>187.27389526367188</td><td>2.06772518157959</td><td>-32768</td><td>2</td><td>0</td><td>0.0002800000074785203</td></tr>\n",
       "<tr><td>11</td><td>IGR J11592+1437</td><td>3.7670397758483887</td><td>179.8090057373047</td><td>14.621000289916992</td><td>-32768</td><td>1</td><td>0</td><td>0.08332999795675278</td></tr>\n",
       "<tr><td>26</td><td>IGR J12288+0052</td><td>3.0956599712371826</td><td>187.19041442871094</td><td>0.8386111259460449</td><td>-32768</td><td>2</td><td>0</td><td>0.00013888889225199819</td></tr>\n",
       "<tr><td>38</td><td>IGR J13091+1137</td><td>4.048680305480957</td><td>197.27333068847656</td><td>11.634139060974121</td><td>-32768</td><td>2</td><td>0</td><td>0.00016999999934341758</td></tr>\n",
       "<tr><td>56</td><td>NGC 4388</td><td>3.38708233833313</td><td>186.44554138183594</td><td>12.662028312683105</td><td>-32768</td><td>2</td><td>0</td><td>0.0002800000074785203</td></tr>\n",
       "<tr><td>57</td><td>NGC 4593</td><td>4.102994441986084</td><td>189.91429138183594</td><td>-5.344250202178955</td><td>-32768</td><td>2</td><td>0</td><td>0.0002800000074785203</td></tr>\n",
       "<tr><td>73</td><td>NEW_1</td><td>7.0470051765441895</td><td>185.59225463867188</td><td>-3.0725700855255127</td><td>-32767</td><td>0</td><td>0</td><td>None</td></tr>\n",
       "<tr><td>74</td><td>NEW_2</td><td>7.299623012542725</td><td>197.28030395507812</td><td>14.018869400024414</td><td>-32767</td><td>0</td><td>0</td><td>None</td></tr>\n",
       "<tr><td>75</td><td>NEW_3</td><td>7.100559711456299</td><td>204.41246032714844</td><td>6.174445629119873</td><td>-32767</td><td>0</td><td>0</td><td>None</td></tr>\n",
       "<tr><td>76</td><td>NEW_4</td><td>6.8949875831604</td><td>205.33583068847656</td><td>9.163466453552246</td><td>-32767</td><td>0</td><td>0</td><td>None</td></tr>\n",
       "<tr><td>77</td><td>NEW_5</td><td>6.181131362915039</td><td>199.43719482421875</td><td>10.229249000549316</td><td>-32767</td><td>0</td><td>0</td><td>None</td></tr>\n",
       "<tr><td>78</td><td>NEW_6</td><td>6.779183864593506</td><td>182.40255737304688</td><td>-1.5533428192138672</td><td>-32767</td><td>0</td><td>0</td><td>None</td></tr>\n",
       "<tr><td>79</td><td>NEW_7</td><td>7.086389541625977</td><td>190.88699340820312</td><td>3.8224403858184814</td><td>-32767</td><td>0</td><td>0</td><td>None</td></tr>\n",
       "<tr><td>80</td><td>NEW_8</td><td>5.025269508361816</td><td>178.6152801513672</td><td>15.5537748336792</td><td>-32767</td><td>0</td><td>0</td><td>None</td></tr>\n",
       "<tr><td>81</td><td>NEW_9</td><td>6.174931049346924</td><td>193.94830322265625</td><td>-3.391814708709717</td><td>-32767</td><td>0</td><td>0</td><td>None</td></tr>\n",
       "<tr><td>110</td><td>3C 273</td><td>3.0909929275512695</td><td>187.2778778076172</td><td>2.0523886680603027</td><td>-32768</td><td>2</td><td>0</td><td>0.0002800000074785203</td></tr>\n",
       "<tr><td>125</td><td>NGC 5100</td><td>3.929424524307251</td><td>200.24526977539062</td><td>8.903253555297852</td><td>-32768</td><td>1</td><td>0</td><td>0.0676666647195816</td></tr>\n",
       "<tr><td>138</td><td>NEW_1</td><td>5.655722618103027</td><td>190.07403564453125</td><td>-5.253385543823242</td><td>-32767</td><td>0</td><td>0</td><td>None</td></tr>\n",
       "<tr><td>140</td><td>NEW_1</td><td>3.9552788734436035</td><td>191.0421600341797</td><td>-0.5061076879501343</td><td>-32767</td><td>0</td><td>0</td><td>None</td></tr>\n",
       "<tr><td>141</td><td>NEW_1</td><td>4.623803615570068</td><td>185.8855438232422</td><td>3.0091352462768555</td><td>-32767</td><td>0</td><td>0</td><td>None</td></tr>\n",
       "</table>"
      ],
      "text/plain": [
       "<Table length=20>\n",
       "meta_ID    src_names       significance    ...  FLAG        ERR_RAD        \n",
       "                                           ...                             \n",
       " int64       str15           float64       ... int64         object        \n",
       "------- --------------- ------------------ ... ----- ----------------------\n",
       "      2          3C 273 12.550069808959961 ...     0  0.0002800000074785203\n",
       "     11 IGR J11592+1437 3.7670397758483887 ...     0    0.08332999795675278\n",
       "     26 IGR J12288+0052 3.0956599712371826 ...     0 0.00013888889225199819\n",
       "     38 IGR J13091+1137  4.048680305480957 ...     0 0.00016999999934341758\n",
       "     56        NGC 4388   3.38708233833313 ...     0  0.0002800000074785203\n",
       "     57        NGC 4593  4.102994441986084 ...     0  0.0002800000074785203\n",
       "     73           NEW_1 7.0470051765441895 ...     0                   None\n",
       "     74           NEW_2  7.299623012542725 ...     0                   None\n",
       "     75           NEW_3  7.100559711456299 ...     0                   None\n",
       "     76           NEW_4    6.8949875831604 ...     0                   None\n",
       "     77           NEW_5  6.181131362915039 ...     0                   None\n",
       "     78           NEW_6  6.779183864593506 ...     0                   None\n",
       "     79           NEW_7  7.086389541625977 ...     0                   None\n",
       "     80           NEW_8  5.025269508361816 ...     0                   None\n",
       "     81           NEW_9  6.174931049346924 ...     0                   None\n",
       "    110          3C 273 3.0909929275512695 ...     0  0.0002800000074785203\n",
       "    125        NGC 5100  3.929424524307251 ...     0     0.0676666647195816\n",
       "    138           NEW_1  5.655722618103027 ...     0                   None\n",
       "    140           NEW_1 3.9552788734436035 ...     0                   None\n",
       "    141           NEW_1  4.623803615570068 ...     0                   None"
      ]
     },
     "execution_count": 9,
     "metadata": {},
     "output_type": "execute_result"
    }
   ],
   "source": [
    "data.dispatcher_catalog_1.table"
   ]
  },
  {
   "cell_type": "code",
   "execution_count": 10,
   "metadata": {},
   "outputs": [],
   "source": [
    "FLAG=0\n",
    "torm=[]\n",
    "for ID,n in enumerate(data.dispatcher_catalog_1.table['src_names']):\n",
    "    if(n[0:3]=='NEW'):\n",
    "        torm.append(ID)\n",
    "    if(n==source_name):\n",
    "        FLAG=1\n",
    "data.dispatcher_catalog_1.table.remove_rows(torm)\n",
    "nrows=len(data.dispatcher_catalog_1.table['src_names'])"
   ]
  },
  {
   "cell_type": "code",
   "execution_count": 11,
   "metadata": {},
   "outputs": [
    {
     "data": {
      "text/html": [
       "<i>Table length=9</i>\n",
       "<table id=\"table140252310737296\" class=\"table-striped table-bordered table-condensed\">\n",
       "<thead><tr><th>meta_ID</th><th>src_names</th><th>significance</th><th>ra</th><th>dec</th><th>NEW_SOURCE</th><th>ISGRI_FLAG</th><th>FLAG</th><th>ERR_RAD</th></tr></thead>\n",
       "<thead><tr><th></th><th></th><th></th><th>deg</th><th>deg</th><th></th><th></th><th></th><th></th></tr></thead>\n",
       "<thead><tr><th>int64</th><th>str15</th><th>float64</th><th>float64</th><th>float64</th><th>int64</th><th>int64</th><th>int64</th><th>object</th></tr></thead>\n",
       "<tr><td>2</td><td>3C 273</td><td>12.550069808959961</td><td>187.27389526367188</td><td>2.06772518157959</td><td>-32768</td><td>2</td><td>0</td><td>0.0002800000074785203</td></tr>\n",
       "<tr><td>11</td><td>IGR J11592+1437</td><td>3.7670397758483887</td><td>179.8090057373047</td><td>14.621000289916992</td><td>-32768</td><td>1</td><td>0</td><td>0.08332999795675278</td></tr>\n",
       "<tr><td>26</td><td>IGR J12288+0052</td><td>3.0956599712371826</td><td>187.19041442871094</td><td>0.8386111259460449</td><td>-32768</td><td>2</td><td>0</td><td>0.00013888889225199819</td></tr>\n",
       "<tr><td>38</td><td>IGR J13091+1137</td><td>4.048680305480957</td><td>197.27333068847656</td><td>11.634139060974121</td><td>-32768</td><td>2</td><td>0</td><td>0.00016999999934341758</td></tr>\n",
       "<tr><td>56</td><td>NGC 4388</td><td>3.38708233833313</td><td>186.44554138183594</td><td>12.662028312683105</td><td>-32768</td><td>2</td><td>0</td><td>0.0002800000074785203</td></tr>\n",
       "<tr><td>57</td><td>NGC 4593</td><td>4.102994441986084</td><td>189.91429138183594</td><td>-5.344250202178955</td><td>-32768</td><td>2</td><td>0</td><td>0.0002800000074785203</td></tr>\n",
       "<tr><td>110</td><td>3C 273</td><td>3.0909929275512695</td><td>187.2778778076172</td><td>2.0523886680603027</td><td>-32768</td><td>2</td><td>0</td><td>0.0002800000074785203</td></tr>\n",
       "<tr><td>125</td><td>NGC 5100</td><td>3.929424524307251</td><td>200.24526977539062</td><td>8.903253555297852</td><td>-32768</td><td>1</td><td>0</td><td>0.0676666647195816</td></tr>\n",
       "<tr><td>0</td><td>3C 279</td><td>0.0</td><td>194.046527</td><td>-5.789314</td><td>0</td><td>2</td><td>0</td><td>0</td></tr>\n",
       "</table>"
      ],
      "text/plain": [
       "<Table length=9>\n",
       "meta_ID    src_names       significance    ...  FLAG        ERR_RAD        \n",
       "                                           ...                             \n",
       " int64       str15           float64       ... int64         object        \n",
       "------- --------------- ------------------ ... ----- ----------------------\n",
       "      2          3C 273 12.550069808959961 ...     0  0.0002800000074785203\n",
       "     11 IGR J11592+1437 3.7670397758483887 ...     0    0.08332999795675278\n",
       "     26 IGR J12288+0052 3.0956599712371826 ...     0 0.00013888889225199819\n",
       "     38 IGR J13091+1137  4.048680305480957 ...     0 0.00016999999934341758\n",
       "     56        NGC 4388   3.38708233833313 ...     0  0.0002800000074785203\n",
       "     57        NGC 4593  4.102994441986084 ...     0  0.0002800000074785203\n",
       "    110          3C 273 3.0909929275512695 ...     0  0.0002800000074785203\n",
       "    125        NGC 5100  3.929424524307251 ...     0     0.0676666647195816\n",
       "      0          3C 279                0.0 ...     0                      0"
      ]
     },
     "execution_count": 11,
     "metadata": {},
     "output_type": "execute_result"
    }
   ],
   "source": [
    "if FLAG==0:\n",
    "    data.dispatcher_catalog_1.table.add_row((0,'3C 279',0,ra,dec,0,2,0,0))\n",
    "    \n",
    "data.dispatcher_catalog_1.table    "
   ]
  },
  {
   "cell_type": "code",
   "execution_count": 12,
   "metadata": {},
   "outputs": [],
   "source": [
    "api_cat=data.dispatcher_catalog_1.get_api_dictionary()"
   ]
  },
  {
   "cell_type": "code",
   "execution_count": 13,
   "metadata": {
    "scrolled": false
   },
   "outputs": [
    {
     "name": "stdout",
     "output_type": "stream",
     "text": [
      "0\n",
      "154700450010.001,154800040010.001,154800050010.001,154800060010.001,154800070010.001,154800080010.001,154800140010.001,154800150010.001,154800160010.001,154800170010.001,154800250010.001,154800460010.001,154900050010.001,154900060010.001,154900070010.001,154900080010.001,154900090010.001,154900140010.001,154900150010.001,154900160010.001,154900170010.001,154900180010.001,154900260010.001,154900470010.001,155000070010.001,155000080010.001,155000090010.001,155000100010.001,155000160010.001,155000170010.001,155000180010.001,155000190010.001,155000200010.001,155000210010.001,155000320010.001,155000330010.001,155000340010.001,155100080010.001,155100090010.001,155100200010.001,155100210010.001,155100220010.001,155100230010.001,155100240010.001,155200020010.001,155200100010.001,155200110010.001,155200120010.001,155200130010.001,155200140010.001\n",
      "waiting for remote response, please wait run_analysis https://www.astro.unige.ch/cdci/astrooda/dispatch-data\n",
      "the job has been submitted on the remote server\n",
      " - the job is working remotely, please wait status=done - job_id=6834378130528365058  058 \n",
      "\n",
      "query done succesfully!\n",
      "1\n",
      "155200200010.001,155200210010.001,155200220010.001,155200230010.001,155200310010.001,155200450010.001,155200460010.001,155300060010.001,155300070010.001,155300080010.001,155300090010.001,155300100010.001,155300150010.001,155300160010.001,155300170010.001,155300200010.001,155300210010.001,155300220010.001,155300230010.001,155300280010.001,155300290010.001,155300300010.001,155300310010.001,155300320010.001,155300330010.001\n",
      "waiting for remote response, please wait run_analysis https://www.astro.unige.ch/cdci/astrooda/dispatch-data\n",
      "the job has been submitted on the remote server\n",
      " | the job is working remotely, please wait status=done - job_id=-958740229384951535  535 \n",
      "\n",
      "query done succesfully!\n"
     ]
    }
   ],
   "source": [
    "lc_results=[]\n",
    "for i in range(len(scw_lists_osa10)):\n",
    "    print(i)\n",
    "    data=disp.get_product(instrument='isgri',\n",
    "                        product='isgri_lc',\n",
    "                        scw_list=scw_lists_osa10[i],\n",
    "                        E1_keV=E1_keV,\n",
    "                        E2_keV=E2_keV,\n",
    "                        osa_version='OSA10.2',\n",
    "                        RA=ra,\n",
    "                        DEC=dec,\n",
    "                        time_bin=time_bin,\n",
    "                        selected_catalog=api_cat)\n",
    "    lc_results.append(data)\n",
    "    \n"
   ]
  },
  {
   "cell_type": "code",
   "execution_count": 14,
   "metadata": {},
   "outputs": [],
   "source": [
    "t=[]\n",
    "r=[]\n",
    "err=[]\n",
    "tot_counts=[]\n",
    "backv=[]\n",
    "backe=[]\n",
    "i=0\n",
    "for lc in lc_results:\n",
    "    for ID,s in enumerate(lc._p_list):\n",
    "        if s.meta_data['src_name']==source_name:\n",
    "            i=i+1\n",
    "            for tt in s.data_unit[1].data['TIME']:\n",
    "                t.append(tt)\n",
    "            for rr in s.data_unit[1].data['RATE']:\n",
    "                r.append(rr)\n",
    "            for ee in s.data_unit[1].data['ERROR']:\n",
    "                err.append(ee)\n",
    "            for tc in s.data_unit[1].data['TOT_COUNTS']:\n",
    "                tot_counts.append(tc)\n",
    "            for bv in s.data_unit[1].data['BACKV']:\n",
    "                backv.append(bv)\n",
    "            for be in s.data_unit[1].data['BACKE']:\n",
    "                backe.append(be)\n",
    "\n",
    "t=np.array(t)\n",
    "r=np.array(r)\n",
    "err=np.array(err)\n",
    "tot_counts=np.array(tot_counts)\n",
    "backv=np.array(backv)\n",
    "backe=np.array(backe)"
   ]
  },
  {
   "cell_type": "code",
   "execution_count": 15,
   "metadata": {},
   "outputs": [
    {
     "data": {
      "image/png": "[encoded data removed]",
      "text/plain": [
       "<Figure size 720x504 with 1 Axes>"
      ]
     },
     "metadata": {
      "needs_background": "light"
     },
     "output_type": "display_data"
    }
   ],
   "source": [
    "fig = plt.figure(figsize=(10,7))\n",
    "Nbins=7\n",
    "t0=51544\n",
    "tmin=t0+t[0]\n",
    "tmax=t0+t[-1]\n",
    "time=np.linspace(tmin,tmax,Nbins)\n",
    "dtime=time[1]-time[0]\n",
    "time_av=time-dtime/2.\n",
    "flux=np.zeros(Nbins)\n",
    "error=np.zeros(Nbins)\n",
    "j=0\n",
    "sc=1.\n",
    "\n",
    "k=0\n",
    "while (j<len(time)):\n",
    "    while ((t[k]+t0<time[j])):\n",
    "        if (err[k]>0.):\n",
    "            flux[j]=flux[j]+r[k]/(err[k])**2\n",
    "            error[j]=error[j]+1./(err[k])**2\n",
    "        k=k+1\n",
    "        if (k==len(t)):\n",
    "            break\n",
    "    if (k==len(t)):\n",
    "        break\n",
    "    else:\n",
    "        j=j+1\n",
    "plt.errorbar(t+t0-57188,r*exp((t+t0-52900)/40000.),yerr=err*exp((t+t0-52900)/40000.),linestyle='none',color='black',alpha=0.03,linewidth=2)\n",
    "\n",
    "for i in range(len(flux)):\n",
    "    if(error[i]>0.):\n",
    "        flux[i]=flux[i]/(error[i])*exp((time_av[i]-52900)/40000.)\n",
    "        error[i]=1./sqrt(error[i])*exp((time_av[i]-52900)/40000.)\n",
    "ind=error>0\n",
    "plt.errorbar(time_av[ind]-57188,flux[ind],yerr=error[ind],xerr=dtime/2.,linestyle='none',color='red',alpha=0.7,linewidth=4)\n",
    "#plt.plot(time_av,exp((time_av-52900)/40000.)/2)\n",
    "plt.tick_params(axis='both', which='major', labelsize=16)\n",
    "ymin=1.1*min(flux-error)\n",
    "ymax=1.1*max(flux+error)\n",
    "plt.ylim(ymin,ymax)\n",
    "plt.xlabel('Time, MJD-57188',fontsize=16)\n",
    "plt.ylabel('Rate, cts/s',fontsize=16)\n",
    "#plt.text(tmin,0.9*ymax, str(E1_keV)+'-'+str(E2_keV)+' keV',fontsize=16)\n",
    "#plt.text(tmin,0.8*ymax, source_name,fontsize=16)\n",
    "\n",
    "name=source_name.replace(\" \", \"\")\n",
    "plt.savefig(name+'_lc_flare.pdf',format='pdf',dpi=100)\n",
    "\n",
    "\n"
   ]
  },
  {
   "cell_type": "code",
   "execution_count": 16,
   "metadata": {
    "tags": [
     "outputs"
    ]
   },
   "outputs": [],
   "source": [
    "lc_3C279=name+'_lc_flare.pdf'"
   ]
  }
 ],
 "metadata": {
  "celltoolbar": "Tags",
  "kernelspec": {
   "display_name": "Python 3",
   "language": "python",
   "name": "python3"
  },
  "language_info": {
   "codemirror_mode": {
    "name": "ipython",
    "version": 3
   },
   "file_extension": ".py",
   "mimetype": "text/x-python",
   "name": "python",
   "nbconvert_exporter": "python",
   "pygments_lexer": "ipython3",
   "version": "3.7.5"
  }
 },
 "nbformat": 4,
 "nbformat_minor": 2
}
