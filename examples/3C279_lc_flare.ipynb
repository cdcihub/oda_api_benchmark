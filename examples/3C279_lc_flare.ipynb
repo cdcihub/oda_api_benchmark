{
 "cells": [
  {
   "cell_type": "code",
   "execution_count": 1,
   "metadata": {},
   "outputs": [],
   "source": [
    "from oda_api.api import DispatcherAPI\n",
    "from oda_api.plot_tools import OdaImage,OdaLightCurve\n",
    "from oda_api.data_products import BinaryData\n",
    "import os\n",
    "from astropy.io import fits\n",
    "import numpy as np\n",
    "from numpy import sqrt,exp\n",
    "import matplotlib.pyplot as plt\n",
    "%matplotlib inline"
   ]
  },
  {
   "cell_type": "code",
   "execution_count": 2,
   "metadata": {
    "tags": [
     "parameters"
    ]
   },
   "outputs": [],
   "source": [
    "source_name='3C 279'\n",
    "ra=194.046527\n",
    "dec=-5.789314\n",
    "radius=15.\n",
    "Tstart='2015-06-01T15:56:40'\n",
    "Tstop='2015-06-30T06:13:10'\n",
    "host='www.astro.unige.ch/cdci/astrooda/dispatch-data'\n",
    "time_bin=10000\n",
    "Nbins=6 # number of time bin in the long-term lightcurve\n",
    "E1_keV=20.\n",
    "E2_keV=100."
   ]
  },
  {
   "cell_type": "code",
   "execution_count": 3,
   "metadata": {},
   "outputs": [
    {
     "name": "stdout",
     "output_type": "stream",
     "text": [
      "\n"
     ]
    }
   ],
   "source": [
    "token=input() # token for restricted access server\n",
    "cookies=dict(_oauth2_proxy=token)"
   ]
  },
  {
   "cell_type": "code",
   "execution_count": 4,
   "metadata": {},
   "outputs": [],
   "source": [
    "disp=DispatcherAPI(host=host)"
   ]
  },
  {
   "cell_type": "code",
   "execution_count": 5,
   "metadata": {},
   "outputs": [],
   "source": [
    "import requests\n",
    "url=\"https://www.astro.unige.ch/cdci/astrooda/dispatch-data/gw/timesystem/api/v1.0/scwlist/cons/\"\n",
    "def queryxtime(**args):\n",
    "    params=Tstart+'/'+Tstop+'?&ra='+str(ra)+'&dec='+str(dec)+'&radius='+str(radius)+'&min_good_isgri=100'\n",
    "    print(url+params)\n",
    "    return requests.get(url+params,cookies=cookies).json()"
   ]
  },
  {
   "cell_type": "code",
   "execution_count": 6,
   "metadata": {},
   "outputs": [
    {
     "name": "stdout",
     "output_type": "stream",
     "text": [
      "https://www.astro.unige.ch/cdci/astrooda/dispatch-data/gw/timesystem/api/v1.0/scwlist/cons/2015-06-01T15:56:40/2015-06-30T06:13:10?&ra=194.046527&dec=-5.789314&radius=15.0&min_good_isgri=100\n"
     ]
    }
   ],
   "source": [
    "scwlist=queryxtime()\n",
    "m=len(scwlist)\n",
    "pointings_osa10=[]\n",
    "pointings_osa11=[]\n",
    "for i in range(m):\n",
    "    if scwlist[i][-2:]=='10':\n",
    "        if(int(scwlist[i][:4])<1626):\n",
    "            pointings_osa10.append(scwlist[i]+'.001')\n",
    "        else:\n",
    "            pointings_osa11.append(scwlist[i]+'.001')\n",
    "#else:\n",
    "#    pointings=np.genfromtxt('scws_3C279_isgri_10deg.txt', dtype='str')\n",
    "m_osa10=len(pointings_osa10)\n",
    "m_osa11=len(pointings_osa11)"
   ]
  },
  {
   "cell_type": "code",
   "execution_count": 7,
   "metadata": {},
   "outputs": [
    {
     "name": "stdout",
     "output_type": "stream",
     "text": [
      "2\n",
      "1\n"
     ]
    }
   ],
   "source": [
    "scw_lists_osa10=[]\n",
    "scw_lists_osa11=[]\n",
    "count=0\n",
    "scw_string=''\n",
    "for i in range(m_osa10):\n",
    "    if count<50:\n",
    "        scw_string=scw_string+str(pointings_osa10[i])+','\n",
    "        count+=1\n",
    "    else:\n",
    "        scw_lists_osa10.append(scw_string[:-1])\n",
    "        count=0\n",
    "        scw_string=str(pointings_osa10[i])+','\n",
    "scw_lists_osa10.append(scw_string[:-1])\n",
    "print(len(scw_lists_osa10))\n",
    "count=0\n",
    "scw_string=''\n",
    "for i in range(m_osa11):\n",
    "    if count<50:\n",
    "        scw_string=scw_string+str(pointings_osa11[i])+','\n",
    "        count+=1\n",
    "    else:\n",
    "        scw_lists_osa11.append(scw_string[:-1])\n",
    "        count=0\n",
    "        scw_string=str(pointings_osa11[i])+','\n",
    "scw_lists_osa11.append(scw_string[:-1])\n",
    "print(len(scw_lists_osa11))"
   ]
  },
  {
   "cell_type": "code",
   "execution_count": 8,
   "metadata": {},
   "outputs": [
    {
     "name": "stdout",
     "output_type": "stream",
     "text": [
      "154800040010.001,154800050010.001,154800060010.001,154800070010.001,154800080010.001,154800140010.001,154800150010.001,154800160010.001,154800170010.001,154800250010.001,154800460010.001,154900050010.001,154900060010.001,154900070010.001,154900080010.001,154900090010.001,154900140010.001,154900150010.001,154900160010.001,154900170010.001,154900180010.001,154900260010.001,154900470010.001,155000070010.001,155000080010.001,155000090010.001,155000100010.001,155000160010.001,155000170010.001,155000180010.001,155000190010.001,155000200010.001,155000210010.001,155000320010.001,155000330010.001,155000340010.001,155100080010.001,155100090010.001,155100200010.001,155100210010.001,155100220010.001,155100230010.001,155100240010.001,155200020010.001,155200100010.001,155200110010.001,155200120010.001,155200130010.001,155200140010.001,155200200010.001\n",
      "- waiting for remote response, please wait run_analysis https://www.astro.unige.ch/cdci/astrooda/dispatch-data\n",
      "scw_list 154800040010.001,154800050010.001,154800060010.001,154800070010.001,154800080010.001,154800140010.001,154800150010.001,154800160010.001,154800170010.001,154800250010.001,154800460010.001,154900050010.001,154900060010.001,154900070010.001,154900080010.001,154900090010.001,154900140010.001,154900150010.001,154900160010.001,154900170010.001,154900180010.001,154900260010.001,154900470010.001,155000070010.001,155000080010.001,155000090010.001,155000100010.001,155000160010.001,155000170010.001,155000180010.001,155000190010.001,155000200010.001,155000210010.001,155000320010.001,155000330010.001,155000340010.001,155100080010.001,155100090010.001,155100200010.001,155100210010.001,155100220010.001,155100230010.001,155100240010.001,155200020010.001,155200100010.001,155200110010.001,155200120010.001,155200130010.001,155200140010.001,155200200010.001\n",
      "E1_keV 20.0\n",
      "E2_keV 100.0\n",
      "osa_version OSA10.2\n",
      "RA 194.046527\n",
      "DEC -5.789314\n",
      "detection_threshold 5\n",
      "instrument isgri\n",
      "product_type isgri_image\n",
      "query_type Real\n",
      "off_line (False,)\n",
      "query_status ('new',)\n",
      "verbose (False,)\n",
      "session_id KY0486ZICX0IBXP0\n",
      "dry_run (False,)\n",
      "api True\n",
      "\n",
      "\n",
      "query done succesfully!\n"
     ]
    }
   ],
   "source": [
    "data=disp.get_product(instrument='isgri',\n",
    "                      product='isgri_image',\n",
    "                      scw_list=scw_lists_osa10[0],\n",
    "                      E1_keV=E1_keV,\n",
    "                      E2_keV=E2_keV,\n",
    "                      osa_version='OSA10.2',\n",
    "                      RA=ra,\n",
    "                      DEC=dec,\n",
    "                      detection_threshold=5,\n",
    "                      product_type='Real')"
   ]
  },
  {
   "cell_type": "code",
   "execution_count": 9,
   "metadata": {
    "scrolled": true
   },
   "outputs": [
    {
     "data": {
      "text/html": [
       "<i>Table length=8</i>\n",
       "<table id=\"table4763147960\" class=\"table-striped table-bordered table-condensed\">\n",
       "<thead><tr><th>meta_ID</th><th>src_names</th><th>significance</th><th>ra</th><th>dec</th><th>NEW_SOURCE</th><th>ISGRI_FLAG</th><th>FLAG</th><th>ERR_RAD</th></tr></thead>\n",
       "<thead><tr><th></th><th></th><th></th><th>deg</th><th>deg</th><th></th><th></th><th></th><th></th></tr></thead>\n",
       "<thead><tr><th>int64</th><th>str6</th><th>float64</th><th>float64</th><th>float64</th><th>int64</th><th>int64</th><th>int64</th><th>object</th></tr></thead>\n",
       "<tr><td>2</td><td>3C 273</td><td>11.387235641479492</td><td>187.2696075439453</td><td>2.064997434616089</td><td>-32768</td><td>2</td><td>0</td><td>0.0002800000074785203</td></tr>\n",
       "<tr><td>73</td><td>NEW_1</td><td>7.024626731872559</td><td>185.6101531982422</td><td>-3.076777458190918</td><td>-32767</td><td>0</td><td>0</td><td>None</td></tr>\n",
       "<tr><td>74</td><td>NEW_2</td><td>7.132507801055908</td><td>197.28179931640625</td><td>14.016865730285645</td><td>-32767</td><td>0</td><td>0</td><td>None</td></tr>\n",
       "<tr><td>75</td><td>NEW_3</td><td>7.291796684265137</td><td>204.42095947265625</td><td>6.167298316955566</td><td>-32767</td><td>0</td><td>0</td><td>None</td></tr>\n",
       "<tr><td>76</td><td>NEW_4</td><td>6.767258644104004</td><td>190.8853759765625</td><td>3.826951026916504</td><td>-32767</td><td>0</td><td>0</td><td>None</td></tr>\n",
       "<tr><td>77</td><td>NEW_5</td><td>6.0468010902404785</td><td>193.96519470214844</td><td>-3.409308671951294</td><td>-32767</td><td>0</td><td>0</td><td>None</td></tr>\n",
       "<tr><td>78</td><td>NEW_6</td><td>6.245404243469238</td><td>195.01390075683594</td><td>18.42357635498047</td><td>-32767</td><td>0</td><td>0</td><td>None</td></tr>\n",
       "<tr><td>134</td><td>NEW_1</td><td>5.655722618103027</td><td>190.07403564453125</td><td>-5.253385543823242</td><td>-32767</td><td>0</td><td>0</td><td>None</td></tr>\n",
       "</table>"
      ],
      "text/plain": [
       "<Table length=8>\n",
       "meta_ID src_names    significance    ... ISGRI_FLAG  FLAG        ERR_RAD       \n",
       "                                     ...                                       \n",
       " int64     str6        float64       ...   int64    int64         object       \n",
       "------- --------- ------------------ ... ---------- ----- ---------------------\n",
       "      2    3C 273 11.387235641479492 ...          2     0 0.0002800000074785203\n",
       "     73     NEW_1  7.024626731872559 ...          0     0                  None\n",
       "     74     NEW_2  7.132507801055908 ...          0     0                  None\n",
       "     75     NEW_3  7.291796684265137 ...          0     0                  None\n",
       "     76     NEW_4  6.767258644104004 ...          0     0                  None\n",
       "     77     NEW_5 6.0468010902404785 ...          0     0                  None\n",
       "     78     NEW_6  6.245404243469238 ...          0     0                  None\n",
       "    134     NEW_1  5.655722618103027 ...          0     0                  None"
      ]
     },
     "execution_count": 9,
     "metadata": {},
     "output_type": "execute_result"
    }
   ],
   "source": [
    "data.dispatcher_catalog_1.table"
   ]
  },
  {
   "cell_type": "code",
   "execution_count": 11,
   "metadata": {},
   "outputs": [],
   "source": [
    "FLAG=0\n",
    "torm=[]\n",
    "for ID,n in enumerate(data.dispatcher_catalog_1.table['src_names']):\n",
    "    if(n[0:3]=='NEW'):\n",
    "        torm.append(ID)\n",
    "    if(n==source_name):\n",
    "        FLAG=1\n",
    "data.dispatcher_catalog_1.table.remove_rows(torm)\n",
    "nrows=len(data.dispatcher_catalog_1.table['src_names'])"
   ]
  },
  {
   "cell_type": "code",
   "execution_count": 12,
   "metadata": {},
   "outputs": [
    {
     "data": {
      "text/html": [
       "<i>Table length=2</i>\n",
       "<table id=\"table4763147960\" class=\"table-striped table-bordered table-condensed\">\n",
       "<thead><tr><th>meta_ID</th><th>src_names</th><th>significance</th><th>ra</th><th>dec</th><th>NEW_SOURCE</th><th>ISGRI_FLAG</th><th>FLAG</th><th>ERR_RAD</th></tr></thead>\n",
       "<thead><tr><th></th><th></th><th></th><th>deg</th><th>deg</th><th></th><th></th><th></th><th></th></tr></thead>\n",
       "<thead><tr><th>int64</th><th>str6</th><th>float64</th><th>float64</th><th>float64</th><th>int64</th><th>int64</th><th>int64</th><th>object</th></tr></thead>\n",
       "<tr><td>2</td><td>3C 273</td><td>11.387235641479492</td><td>187.2696075439453</td><td>2.064997434616089</td><td>-32768</td><td>2</td><td>0</td><td>0.0002800000074785203</td></tr>\n",
       "<tr><td>0</td><td>3C 279</td><td>0.0</td><td>194.046527</td><td>-5.789314</td><td>0</td><td>2</td><td>0</td><td>0</td></tr>\n",
       "</table>"
      ],
      "text/plain": [
       "<Table length=2>\n",
       "meta_ID src_names    significance    ... ISGRI_FLAG  FLAG        ERR_RAD       \n",
       "                                     ...                                       \n",
       " int64     str6        float64       ...   int64    int64         object       \n",
       "------- --------- ------------------ ... ---------- ----- ---------------------\n",
       "      2    3C 273 11.387235641479492 ...          2     0 0.0002800000074785203\n",
       "      0    3C 279                0.0 ...          2     0                     0"
      ]
     },
     "execution_count": 12,
     "metadata": {},
     "output_type": "execute_result"
    }
   ],
   "source": [
    "if FLAG==0:\n",
    "    data.dispatcher_catalog_1.table.add_row()\n",
    "    data.dispatcher_catalog_1.table['src_names'][nrows]='3C 279'\n",
    "    data.dispatcher_catalog_1.table['ra'][nrows]=ra\n",
    "    data.dispatcher_catalog_1.table['dec'][nrows]=dec\n",
    "    data.dispatcher_catalog_1.table['ISGRI_FLAG'][nrows]=2\n",
    "\n",
    "data.dispatcher_catalog_1.table\n",
    "\n"
   ]
  },
  {
   "cell_type": "code",
   "execution_count": 13,
   "metadata": {},
   "outputs": [
    {
     "ename": "TypeError",
     "evalue": "Object of type ndarray is not JSON serializable",
     "output_type": "error",
     "traceback": [
      "\u001b[0;31m---------------------------------------------------------------------------\u001b[0m",
      "\u001b[0;31mTypeError\u001b[0m                                 Traceback (most recent call last)",
      "\u001b[0;32m<ipython-input-13-5256da35f733>\u001b[0m in \u001b[0;36m<module>\u001b[0;34m\u001b[0m\n\u001b[0;32m----> 1\u001b[0;31m \u001b[0mapi_cat\u001b[0m\u001b[0;34m=\u001b[0m\u001b[0mdata\u001b[0m\u001b[0;34m.\u001b[0m\u001b[0mdispatcher_catalog_1\u001b[0m\u001b[0;34m.\u001b[0m\u001b[0mget_api_dictionary\u001b[0m\u001b[0;34m(\u001b[0m\u001b[0;34m)\u001b[0m\u001b[0;34m\u001b[0m\u001b[0;34m\u001b[0m\u001b[0m\n\u001b[0m",
      "\u001b[0;32m/anaconda3/lib/python3.7/site-packages/oda_api-1.0-py3.7.egg/oda_api/data_products.py\u001b[0m in \u001b[0;36mget_api_dictionary\u001b[0;34m(self)\u001b[0m\n\u001b[1;32m    497\u001b[0m                     \u001b[0mcat_column_descr\u001b[0m\u001b[0;34m=\u001b[0m\u001b[0mself\u001b[0m\u001b[0;34m.\u001b[0m\u001b[0mtable\u001b[0m\u001b[0;34m.\u001b[0m\u001b[0mdtype\u001b[0m\u001b[0;34m.\u001b[0m\u001b[0mdescr\u001b[0m\u001b[0;34m,\u001b[0m\u001b[0;34m\u001b[0m\u001b[0;34m\u001b[0m\u001b[0m\n\u001b[1;32m    498\u001b[0m                     \u001b[0mcat_lat_name\u001b[0m\u001b[0;34m=\u001b[0m\u001b[0mself\u001b[0m\u001b[0;34m.\u001b[0m\u001b[0mlat_name\u001b[0m\u001b[0;34m,\u001b[0m\u001b[0;34m\u001b[0m\u001b[0;34m\u001b[0m\u001b[0m\n\u001b[0;32m--> 499\u001b[0;31m                     cat_lon_name=self.lon_name))\n\u001b[0m\u001b[1;32m    500\u001b[0m \u001b[0;34m\u001b[0m\u001b[0m\n",
      "\u001b[0;32m/anaconda3/lib/python3.7/json/__init__.py\u001b[0m in \u001b[0;36mdumps\u001b[0;34m(obj, skipkeys, ensure_ascii, check_circular, allow_nan, cls, indent, separators, default, sort_keys, **kw)\u001b[0m\n\u001b[1;32m    229\u001b[0m         \u001b[0mcls\u001b[0m \u001b[0;32mis\u001b[0m \u001b[0;32mNone\u001b[0m \u001b[0;32mand\u001b[0m \u001b[0mindent\u001b[0m \u001b[0;32mis\u001b[0m \u001b[0;32mNone\u001b[0m \u001b[0;32mand\u001b[0m \u001b[0mseparators\u001b[0m \u001b[0;32mis\u001b[0m \u001b[0;32mNone\u001b[0m \u001b[0;32mand\u001b[0m\u001b[0;34m\u001b[0m\u001b[0;34m\u001b[0m\u001b[0m\n\u001b[1;32m    230\u001b[0m         default is None and not sort_keys and not kw):\n\u001b[0;32m--> 231\u001b[0;31m         \u001b[0;32mreturn\u001b[0m \u001b[0m_default_encoder\u001b[0m\u001b[0;34m.\u001b[0m\u001b[0mencode\u001b[0m\u001b[0;34m(\u001b[0m\u001b[0mobj\u001b[0m\u001b[0;34m)\u001b[0m\u001b[0;34m\u001b[0m\u001b[0;34m\u001b[0m\u001b[0m\n\u001b[0m\u001b[1;32m    232\u001b[0m     \u001b[0;32mif\u001b[0m \u001b[0mcls\u001b[0m \u001b[0;32mis\u001b[0m \u001b[0;32mNone\u001b[0m\u001b[0;34m:\u001b[0m\u001b[0;34m\u001b[0m\u001b[0;34m\u001b[0m\u001b[0m\n\u001b[1;32m    233\u001b[0m         \u001b[0mcls\u001b[0m \u001b[0;34m=\u001b[0m \u001b[0mJSONEncoder\u001b[0m\u001b[0;34m\u001b[0m\u001b[0;34m\u001b[0m\u001b[0m\n",
      "\u001b[0;32m/anaconda3/lib/python3.7/json/encoder.py\u001b[0m in \u001b[0;36mencode\u001b[0;34m(self, o)\u001b[0m\n\u001b[1;32m    197\u001b[0m         \u001b[0;31m# exceptions aren't as detailed.  The list call should be roughly\u001b[0m\u001b[0;34m\u001b[0m\u001b[0;34m\u001b[0m\u001b[0;34m\u001b[0m\u001b[0m\n\u001b[1;32m    198\u001b[0m         \u001b[0;31m# equivalent to the PySequence_Fast that ''.join() would do.\u001b[0m\u001b[0;34m\u001b[0m\u001b[0;34m\u001b[0m\u001b[0;34m\u001b[0m\u001b[0m\n\u001b[0;32m--> 199\u001b[0;31m         \u001b[0mchunks\u001b[0m \u001b[0;34m=\u001b[0m \u001b[0mself\u001b[0m\u001b[0;34m.\u001b[0m\u001b[0miterencode\u001b[0m\u001b[0;34m(\u001b[0m\u001b[0mo\u001b[0m\u001b[0;34m,\u001b[0m \u001b[0m_one_shot\u001b[0m\u001b[0;34m=\u001b[0m\u001b[0;32mTrue\u001b[0m\u001b[0;34m)\u001b[0m\u001b[0;34m\u001b[0m\u001b[0;34m\u001b[0m\u001b[0m\n\u001b[0m\u001b[1;32m    200\u001b[0m         \u001b[0;32mif\u001b[0m \u001b[0;32mnot\u001b[0m \u001b[0misinstance\u001b[0m\u001b[0;34m(\u001b[0m\u001b[0mchunks\u001b[0m\u001b[0;34m,\u001b[0m \u001b[0;34m(\u001b[0m\u001b[0mlist\u001b[0m\u001b[0;34m,\u001b[0m \u001b[0mtuple\u001b[0m\u001b[0;34m)\u001b[0m\u001b[0;34m)\u001b[0m\u001b[0;34m:\u001b[0m\u001b[0;34m\u001b[0m\u001b[0;34m\u001b[0m\u001b[0m\n\u001b[1;32m    201\u001b[0m             \u001b[0mchunks\u001b[0m \u001b[0;34m=\u001b[0m \u001b[0mlist\u001b[0m\u001b[0;34m(\u001b[0m\u001b[0mchunks\u001b[0m\u001b[0;34m)\u001b[0m\u001b[0;34m\u001b[0m\u001b[0;34m\u001b[0m\u001b[0m\n",
      "\u001b[0;32m/anaconda3/lib/python3.7/json/encoder.py\u001b[0m in \u001b[0;36miterencode\u001b[0;34m(self, o, _one_shot)\u001b[0m\n\u001b[1;32m    255\u001b[0m                 \u001b[0mself\u001b[0m\u001b[0;34m.\u001b[0m\u001b[0mkey_separator\u001b[0m\u001b[0;34m,\u001b[0m \u001b[0mself\u001b[0m\u001b[0;34m.\u001b[0m\u001b[0mitem_separator\u001b[0m\u001b[0;34m,\u001b[0m \u001b[0mself\u001b[0m\u001b[0;34m.\u001b[0m\u001b[0msort_keys\u001b[0m\u001b[0;34m,\u001b[0m\u001b[0;34m\u001b[0m\u001b[0;34m\u001b[0m\u001b[0m\n\u001b[1;32m    256\u001b[0m                 self.skipkeys, _one_shot)\n\u001b[0;32m--> 257\u001b[0;31m         \u001b[0;32mreturn\u001b[0m \u001b[0m_iterencode\u001b[0m\u001b[0;34m(\u001b[0m\u001b[0mo\u001b[0m\u001b[0;34m,\u001b[0m \u001b[0;36m0\u001b[0m\u001b[0;34m)\u001b[0m\u001b[0;34m\u001b[0m\u001b[0;34m\u001b[0m\u001b[0m\n\u001b[0m\u001b[1;32m    258\u001b[0m \u001b[0;34m\u001b[0m\u001b[0m\n\u001b[1;32m    259\u001b[0m def _make_iterencode(markers, _default, _encoder, _indent, _floatstr,\n",
      "\u001b[0;32m/anaconda3/lib/python3.7/json/encoder.py\u001b[0m in \u001b[0;36mdefault\u001b[0;34m(self, o)\u001b[0m\n\u001b[1;32m    177\u001b[0m \u001b[0;34m\u001b[0m\u001b[0m\n\u001b[1;32m    178\u001b[0m         \"\"\"\n\u001b[0;32m--> 179\u001b[0;31m         raise TypeError(f'Object of type {o.__class__.__name__} '\n\u001b[0m\u001b[1;32m    180\u001b[0m                         f'is not JSON serializable')\n\u001b[1;32m    181\u001b[0m \u001b[0;34m\u001b[0m\u001b[0m\n",
      "\u001b[0;31mTypeError\u001b[0m: Object of type ndarray is not JSON serializable"
     ]
    }
   ],
   "source": [
    "api_cat=data.dispatcher_catalog_1.get_api_dictionary()"
   ]
  },
  {
   "cell_type": "code",
   "execution_count": 62,
   "metadata": {
    "scrolled": false
   },
   "outputs": [
    {
     "name": "stdout",
     "output_type": "stream",
     "text": [
      "0\n",
      "155300060010.001,155300070010.001,155300080010.001,155300090010.001,155300100010.001,155300150010.001,155300160010.001,155300170010.001\n",
      "- waiting for remote response, please wait run_analysis https://www.astro.unige.ch/cdci/astrooda/dispatch-data\n",
      "scw_list 155300060010.001,155300070010.001,155300080010.001,155300090010.001,155300100010.001,155300150010.001,155300160010.001,155300170010.001\n",
      "E1_keV 20.0\n",
      "E2_keV 100.0\n",
      "osa_version OSA10.2\n",
      "RA 194.046527\n",
      "DEC -5.789314\n",
      "time_bin 10000\n",
      "selected_catalog {\"cat_frame\": \"fk5\", \"cat_coord_units\": \"deg\", \"cat_column_list\": [[2, 3, 28, 38, 56, 96], [\"3C 273\", \"3C 279\", \"IGR J12304+0946\", \"IGR J13091+1137\", \"NGC 4388\", \"NGC 4388\"], [4.5574564933776855, 4.786496162414551, 3.8660948276519775, 4.101138114929199, 5.109129428863525, 4.204916477203369], [187.32086181640625, 194.04653930664062, 187.6199951171875, 197.27333068847656, 186.44554138183594, 186.4407958984375], [1.974298119544983, -5.789306163787842, 9.776000022888184, 11.634139060974121, 12.662028312683105, 12.656686782836914], [-32768, -32768, -32768, -32768, -32768, -32768], [2, 2, 1, 2, 2, 2], [0, 0, 0, 0, 0, 0], [0.0002800000074785203, 0.0002800000074785203, 0.09688907116651535, 0.00016999999934341758, 0.0002800000074785203, 0.0002800000074785203]], \"cat_column_names\": [\"meta_ID\", \"src_names\", \"significance\", \"ra\", \"dec\", \"NEW_SOURCE\", \"ISGRI_FLAG\", \"FLAG\", \"ERR_RAD\"], \"cat_column_descr\": [[\"meta_ID\", \"<i8\"], [\"src_names\", \"<U15\"], [\"significance\", \"<f8\"], [\"ra\", \"<f8\"], [\"dec\", \"<f8\"], [\"NEW_SOURCE\", \"<i8\"], [\"ISGRI_FLAG\", \"<i8\"], [\"FLAG\", \"<i8\"], [\"ERR_RAD\", \"|O\"]], \"cat_lat_name\": \"dec\", \"cat_lon_name\": \"ra\"}\n",
      "instrument isgri\n",
      "product_type isgri_lc\n",
      "query_type Real\n",
      "off_line (False,)\n",
      "query_status ('new',)\n",
      "verbose (False,)\n",
      "session_id BNBYURBLD8LLWFDS\n",
      "dry_run (False,)\n",
      "api True\n",
      "the job has been submitted on the remote server\n",
      " / the job is working remotely, please wait status=done - job_id=2322833002252081917  17  \n",
      "\n",
      "query done succesfully!\n"
     ]
    }
   ],
   "source": [
    "lc_results=[]\n",
    "for i in range(len(scw_lists_osa10)):\n",
    "    print(i)\n",
    "    data=disp.get_product(instrument='isgri',\n",
    "                        product='isgri_lc',\n",
    "                        scw_list=scw_lists_osa10[i],\n",
    "                        E1_keV=E1_keV,\n",
    "                        E2_keV=E2_keV,\n",
    "                        osa_version='OSA10.2',\n",
    "                        RA=ra,\n",
    "                        DEC=dec,\n",
    "                        time_bin=time_bin,\n",
    "                        selected_catalog=api_cat)\n",
    "    lc_results.append(data)\n",
    "    \n"
   ]
  },
  {
   "cell_type": "code",
   "execution_count": 63,
   "metadata": {},
   "outputs": [],
   "source": [
    "t=[]\n",
    "r=[]\n",
    "err=[]\n",
    "tot_counts=[]\n",
    "backv=[]\n",
    "backe=[]\n",
    "i=0\n",
    "for lc in lc_results:\n",
    "    for ID,s in enumerate(lc._p_list):\n",
    "        if s.meta_data['src_name']==source_name:\n",
    "            i=i+1\n",
    "            for tt in s.data_unit[1].data['TIME']:\n",
    "                t.append(tt)\n",
    "            for rr in s.data_unit[1].data['RATE']:\n",
    "                r.append(rr)\n",
    "            for ee in s.data_unit[1].data['ERROR']:\n",
    "                err.append(ee)\n",
    "            for tc in s.data_unit[1].data['TOT_COUNTS']:\n",
    "                tot_counts.append(tc)\n",
    "            for bv in s.data_unit[1].data['BACKV']:\n",
    "                backv.append(bv)\n",
    "            for be in s.data_unit[1].data['BACKE']:\n",
    "                backe.append(be)\n",
    "for lc in lc_results1:\n",
    "    for ID,s in enumerate(lc._p_list):\n",
    "        if s.meta_data['src_name']==source_name:\n",
    "            i=i+1\n",
    "            for tt in s.data_unit[1].data['TIME']:\n",
    "                t.append(tt)\n",
    "            for rr in s.data_unit[1].data['RATE']:\n",
    "                r.append(rr)\n",
    "            for ee in s.data_unit[1].data['ERROR']:\n",
    "                err.append(ee)\n",
    "            for tc in s.data_unit[1].data['TOT_COUNTS']:\n",
    "                tot_counts.append(tc)\n",
    "            for bv in s.data_unit[1].data['BACKV']:\n",
    "                backv.append(bv)\n",
    "            for be in s.data_unit[1].data['BACKE']:\n",
    "                backe.append(be)\n",
    "\n",
    "t=np.array(t)\n",
    "r=np.array(r)\n",
    "err=np.array(err)\n",
    "tot_counts=np.array(tot_counts)\n",
    "backv=np.array(backv)\n",
    "backe=np.array(backe)"
   ]
  },
  {
   "cell_type": "code",
   "execution_count": 68,
   "metadata": {},
   "outputs": [
    {
     "data": {
      "image/png": "[encoded data removed]",
      "text/plain": [
       "<Figure size 720x504 with 1 Axes>"
      ]
     },
     "metadata": {
      "needs_background": "light"
     },
     "output_type": "display_data"
    }
   ],
   "source": [
    "fig = plt.figure(figsize=(10,7))\n",
    "t0=51544\n",
    "tmin=t0+t[0]\n",
    "tmax=t0+t[-1]\n",
    "time=np.linspace(tmin,tmax,Nbins)\n",
    "dtime=time[1]-time[0]\n",
    "time_av=time-dtime/2.\n",
    "flux=np.zeros(Nbins)\n",
    "error=np.zeros(Nbins)\n",
    "j=0\n",
    "sc=1.\n",
    "\n",
    "k=0\n",
    "while (j<len(time)):\n",
    "    while ((t[k]+t0<time[j])):\n",
    "        if (err[k]>0.):\n",
    "            flux[j]=flux[j]+r[k]/(err[k])**2\n",
    "            error[j]=error[j]+1./(err[k])**2\n",
    "        k=k+1\n",
    "        if (k==len(t)):\n",
    "            break\n",
    "    if (k==len(t)):\n",
    "        break\n",
    "    else:\n",
    "        j=j+1\n",
    "plt.errorbar(t+t0-57188,r*exp((t+t0-52900)/40000.),yerr=err*exp((t+t0-52900)/40000.),linestyle='none',color='black',alpha=0.03,linewidth=2)\n",
    "\n",
    "for i in range(len(flux)):\n",
    "    if(error[i]>0.):\n",
    "        flux[i]=flux[i]/(error[i])*exp((time_av[i]-52900)/40000.)\n",
    "        error[i]=1./sqrt(error[i])*exp((time_av[i]-52900)/40000.)\n",
    "plt.errorbar(time_av-57188,flux,yerr=error,xerr=dtime/2.,linestyle='none',color='red',alpha=0.7,linewidth=4)\n",
    "#plt.plot(time_av,exp((time_av-52900)/40000.)/2)\n",
    "plt.tick_params(axis='both', which='major', labelsize=16)\n",
    "ymax=1.1*max(flux+error)\n",
    "plt.ylim(-0.1,ymax)\n",
    "plt.xlabel('Time, MJD-57188',fontsize=16)\n",
    "plt.ylabel('Rate, cts/s',fontsize=16)\n",
    "#plt.text(tmin,0.9*ymax, str(E1_keV)+'-'+str(E2_keV)+' keV',fontsize=16)\n",
    "#plt.text(tmin,0.8*ymax, source_name,fontsize=16)\n",
    "\n",
    "name=source_name.replace(\" \", \"\")\n",
    "plt.savefig(name+'_lc.pdf',format='pdf',dpi=100)\n",
    "\n",
    "\n"
   ]
  },
  {
   "cell_type": "code",
   "execution_count": 65,
   "metadata": {
    "tags": [
     "outputs"
    ]
   },
   "outputs": [],
   "source": [
    "lc_3C279=name+'_lc.pdf'"
   ]
  }
 ],
 "metadata": {
  "celltoolbar": "Tags",
  "kernelspec": {
   "display_name": "Python 3",
   "language": "python",
   "name": "python3"
  },
  "language_info": {
   "codemirror_mode": {
    "name": "ipython",
    "version": 3
   },
   "file_extension": ".py",
   "mimetype": "text/x-python",
   "name": "python",
   "nbconvert_exporter": "python",
   "pygments_lexer": "ipython3",
   "version": "3.7.3"
  }
 },
 "nbformat": 4,
 "nbformat_minor": 2
}
