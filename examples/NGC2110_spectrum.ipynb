{
 "cells": [
  {
   "cell_type": "code",
   "execution_count": 1,
   "metadata": {},
   "outputs": [],
   "source": [
    "from oda_api.api import DispatcherAPI\n",
    "from oda_api.plot_tools import OdaImage,OdaLightCurve\n",
    "from oda_api.data_products import BinaryData\n",
    "import os\n",
    "from astropy.io import fits\n",
    "import numpy as np\n",
    "from numpy import sqrt\n",
    "import matplotlib.pyplot as plt\n",
    "%matplotlib inline"
   ]
  },
  {
   "cell_type": "code",
   "execution_count": 25,
   "metadata": {},
   "outputs": [
    {
     "name": "stdout",
     "output_type": "stream",
     "text": [
      "-\n"
     ]
    }
   ],
   "source": [
    "source_name='NGC 2110'\n",
    "ra=88.047400\n",
    "dec=-7.456247\n",
    "scw_list='scws_NGC2110_isgri_10deg.txt' # choice among available scw lists\n",
    "host='analyse-staging-1.2.reproducible.online' #choice between 'https://www.astro.unige.ch/cdci/astrooda' and 'analyse-staging-1.2.reproducible.online' \n",
    "if host=='analyse-staging-1.2.reproducible.online':\n",
    "    try:\n",
    "        token=raw_input() # token for restricted access server\n",
    "    except:\n",
    "        token=input() # token for restricted access server\n",
    "else:\n",
    "    token=''\n",
    "rebin=5 # minimal significance in energy bin, for spectral plotting"
   ]
  },
  {
   "cell_type": "code",
   "execution_count": 3,
   "metadata": {},
   "outputs": [],
   "source": [
    "name=source_name.replace(\" \", \"\")"
   ]
  },
  {
   "cell_type": "code",
   "execution_count": 26,
   "metadata": {},
   "outputs": [],
   "source": [
    "cookies=dict(_oauth2_proxy=token)\n",
    "disp=DispatcherAPI(host=host+'/dispatch-data',instrument='mock',cookies=cookies,protocol='https')"
   ]
  },
  {
   "cell_type": "code",
   "execution_count": 5,
   "metadata": {},
   "outputs": [
    {
     "name": "stdout",
     "output_type": "stream",
     "text": [
      "24\n"
     ]
    }
   ],
   "source": [
    "f = open(scw_list, 'r')\n",
    "scws=[]\n",
    "for line in f:\n",
    "    line = line.strip()\n",
    "    columns = line.split()\n",
    "    scws.append(columns[0])\n",
    "f.close()\n",
    "m=int(len(scws)/50.)\n",
    "print(m)\n",
    "scw_lists=[]\n",
    "for i in range(m):\n",
    "    count=0\n",
    "    j=0    \n",
    "    scw_string=''\n",
    "    while(count<50):\n",
    "        scw_string=scw_string+str(scws[50*i+count])+','\n",
    "        count=count+1\n",
    "    scw_lists.append(scw_string[:-1])"
   ]
  },
  {
   "cell_type": "code",
   "execution_count": 6,
   "metadata": {},
   "outputs": [
    {
     "name": "stdout",
     "output_type": "stream",
     "text": [
      "waiting for remote response, please wait run_analysis https://analyse-staging-1.2.reproducible.online/dispatch-data\n",
      "\n",
      "\n",
      "query done succesfully!\n"
     ]
    }
   ],
   "source": [
    "data=disp.get_product(instrument='isgri',\n",
    "                      product='isgri_image',\n",
    "                      scw_list=scw_lists[0],\n",
    "                      E1_keV=20.0,\n",
    "                      E2_keV=40.0,\n",
    "                      osa_version='OSA10.2',\n",
    "                      RA=ra,\n",
    "                      DEC=dec,\n",
    "                      detection_threshold=5.0,\n",
    "                      product_type='Real')"
   ]
  },
  {
   "cell_type": "code",
   "execution_count": 7,
   "metadata": {},
   "outputs": [
    {
     "data": {
      "text/html": [
       "&lt;Table length=3&gt;\n",
       "<table id=\"table4364912976\" class=\"table-striped table-bordered table-condensed\">\n",
       "<thead><tr><th>meta_ID</th><th>src_names</th><th>significance</th><th>ra</th><th>dec</th><th>NEW_SOURCE</th><th>ISGRI_FLAG</th><th>FLAG</th><th>ERR_RAD</th></tr></thead>\n",
       "<thead><tr><th></th><th></th><th></th><th>deg</th><th>deg</th><th></th><th></th><th></th><th></th></tr></thead>\n",
       "<thead><tr><th>int64</th><th>unicode10</th><th>float64</th><th>float64</th><th>float64</th><th>int64</th><th>int64</th><th>int64</th><th>float64</th></tr></thead>\n",
       "<tr><td>3</td><td>Ark 120</td><td>9.78393650055</td><td>79.0356903076</td><td>-0.127120032907</td><td>-32768</td><td>2</td><td>0</td><td>0.000280000007479</td></tr>\n",
       "<tr><td>4</td><td>H 0614+091</td><td>20.3825931549</td><td>94.2858428955</td><td>9.14374637604</td><td>-32768</td><td>2</td><td>0</td><td>0.000280000007479</td></tr>\n",
       "<tr><td>14</td><td>NGC 2110</td><td>16.466463089</td><td>88.0670318604</td><td>-7.46830034256</td><td>-32768</td><td>2</td><td>0</td><td>0.000280000007479</td></tr>\n",
       "</table>"
      ],
      "text/plain": [
       "<Table length=3>\n",
       "meta_ID src_names   significance ... ISGRI_FLAG  FLAG      ERR_RAD     \n",
       "                                 ...                                   \n",
       " int64  unicode10     float64    ...   int64    int64      float64     \n",
       "------- ---------- ------------- ... ---------- ----- -----------------\n",
       "      3    Ark 120 9.78393650055 ...          2     0 0.000280000007479\n",
       "      4 H 0614+091 20.3825931549 ...          2     0 0.000280000007479\n",
       "     14   NGC 2110  16.466463089 ...          2     0 0.000280000007479"
      ]
     },
     "execution_count": 7,
     "metadata": {},
     "output_type": "execute_result"
    }
   ],
   "source": [
    "data.dispatcher_catalog_1.table"
   ]
  },
  {
   "cell_type": "code",
   "execution_count": 8,
   "metadata": {},
   "outputs": [],
   "source": [
    "api_cat=data.dispatcher_catalog_1.get_api_dictionary()"
   ]
  },
  {
   "cell_type": "code",
   "execution_count": 9,
   "metadata": {
    "scrolled": false
   },
   "outputs": [
    {
     "name": "stdout",
     "output_type": "stream",
     "text": [
      "0\n",
      "waiting for remote response, please wait run_analysis https://analyse-staging-1.2.reproducible.online/dispatch-data\n",
      "\n",
      "\n",
      "query done succesfully!\n",
      "1\n",
      "waiting for remote response, please wait run_analysis https://analyse-staging-1.2.reproducible.online/dispatch-data\n",
      "\n",
      "\n",
      "query done succesfully!\n",
      "2\n",
      "waiting for remote response, please wait run_analysis https://analyse-staging-1.2.reproducible.online/dispatch-data\n",
      "\n",
      "\n",
      "query done succesfully!\n",
      "3\n",
      "waiting for remote response, please wait run_analysis https://analyse-staging-1.2.reproducible.online/dispatch-data\n",
      "\n",
      "\n",
      "query done succesfully!\n",
      "4\n",
      "waiting for remote response, please wait run_analysis https://analyse-staging-1.2.reproducible.online/dispatch-data\n",
      "\n",
      "\n",
      "query done succesfully!\n",
      "5\n",
      "waiting for remote response, please wait run_analysis https://analyse-staging-1.2.reproducible.online/dispatch-data\n",
      "\n",
      "\n",
      "query done succesfully!\n",
      "6\n",
      "waiting for remote response, please wait run_analysis https://analyse-staging-1.2.reproducible.online/dispatch-data\n",
      "\n",
      "\n",
      "query done succesfully!\n",
      "7\n",
      "waiting for remote response, please wait run_analysis https://analyse-staging-1.2.reproducible.online/dispatch-data\n",
      "\n",
      "\n",
      "query done succesfully!\n",
      "8\n",
      "waiting for remote response, please wait run_analysis https://analyse-staging-1.2.reproducible.online/dispatch-data\n",
      "\n",
      "\n",
      "query done succesfully!\n",
      "9\n",
      "waiting for remote response, please wait run_analysis https://analyse-staging-1.2.reproducible.online/dispatch-data\n",
      "\n",
      "\n",
      "query done succesfully!\n",
      "10\n",
      "waiting for remote response, please wait run_analysis https://analyse-staging-1.2.reproducible.online/dispatch-data\n",
      "\n",
      "\n",
      "query done succesfully!\n",
      "11\n",
      "waiting for remote response, please wait run_analysis https://analyse-staging-1.2.reproducible.online/dispatch-data\n",
      "\n",
      "\n",
      "query done succesfully!\n",
      "12\n",
      "waiting for remote response, please wait run_analysis https://analyse-staging-1.2.reproducible.online/dispatch-data\n",
      "\n",
      "\n",
      "query done succesfully!\n",
      "13\n",
      "waiting for remote response, please wait run_analysis https://analyse-staging-1.2.reproducible.online/dispatch-data\n",
      "\n",
      "\n",
      "query done succesfully!\n",
      "14\n",
      "waiting for remote response, please wait run_analysis https://analyse-staging-1.2.reproducible.online/dispatch-data\n",
      "\n",
      "\n",
      "query done succesfully!\n",
      "15\n",
      "waiting for remote response, please wait run_analysis https://analyse-staging-1.2.reproducible.online/dispatch-data\n",
      "\n",
      "\n",
      "query done succesfully!\n",
      "16\n",
      "waiting for remote response, please wait run_analysis https://analyse-staging-1.2.reproducible.online/dispatch-data\n",
      "\n",
      "\n",
      "query done succesfully!\n",
      "17\n",
      "waiting for remote response, please wait run_analysis https://analyse-staging-1.2.reproducible.online/dispatch-data\n",
      "\n",
      "\n",
      "query done succesfully!\n",
      "18\n",
      "waiting for remote response, please wait run_analysis https://analyse-staging-1.2.reproducible.online/dispatch-data\n",
      "\n",
      "\n",
      "query done succesfully!\n",
      "19\n",
      "waiting for remote response, please wait run_analysis https://analyse-staging-1.2.reproducible.online/dispatch-data\n",
      "\n",
      "\n",
      "query done succesfully!\n",
      "20\n",
      "waiting for remote response, please wait run_analysis https://analyse-staging-1.2.reproducible.online/dispatch-data\n",
      "\n",
      "\n",
      "query done succesfully!\n",
      "21\n",
      "waiting for remote response, please wait run_analysis https://analyse-staging-1.2.reproducible.online/dispatch-data\n",
      "\n",
      "\n",
      "query done succesfully!\n",
      "22\n",
      "waiting for remote response, please wait run_analysis https://analyse-staging-1.2.reproducible.online/dispatch-data\n",
      "\n",
      "\n",
      "query done succesfully!\n",
      "23\n",
      "waiting for remote response, please wait run_analysis https://analyse-staging-1.2.reproducible.online/dispatch-data\n",
      "\n",
      "\n",
      "query done succesfully!\n"
     ]
    }
   ],
   "source": [
    "spectrum_results=[]\n",
    "for i in range(len(scw_lists)):\n",
    "    print(i)\n",
    "    data=disp.get_product(instrument='isgri',\n",
    "                            product='isgri_spectrum',\n",
    "                            scw_list=scw_lists[i],\n",
    "                            query_type='Real',\n",
    "                            osa_version='OSA10.2',\n",
    "                            RA=ra,\n",
    "                            DEC=dec,\n",
    "                            detection_threshold=5.0,\n",
    "                            radius=15.,\n",
    "                            product_type='Real',\n",
    "                            selected_catalog=api_cat)\n",
    "    spectrum_results.append(data)"
   ]
  },
  {
   "cell_type": "code",
   "execution_count": 10,
   "metadata": {},
   "outputs": [
    {
     "name": "stdout",
     "output_type": "stream",
     "text": [
      "(0, 1, 2)\n"
     ]
    }
   ],
   "source": [
    "for ID,s in enumerate(data._p_list):\n",
    "    if (s.meta_data['src_name']==source_name):\n",
    "        if(s.meta_data['product']=='isgri_spectrum'):\n",
    "            ID_spec=ID\n",
    "        if(s.meta_data['product']=='isgri_arf'):\n",
    "            ID_arf=ID\n",
    "        if(s.meta_data['product']=='isgri_rmf'):\n",
    "            ID_rmf=ID\n",
    "\n",
    "print(ID_spec, ID_arf, ID_rmf)"
   ]
  },
  {
   "cell_type": "code",
   "execution_count": 11,
   "metadata": {},
   "outputs": [
    {
     "name": "stderr",
     "output_type": "stream",
     "text": [
      "/anaconda3/envs/fermi/lib/python2.7/site-packages/ipykernel_launcher.py:7: RuntimeWarning: invalid value encountered in multiply\n",
      "  import sys\n",
      "/anaconda3/envs/fermi/lib/python2.7/site-packages/ipykernel_launcher.py:35: RuntimeWarning: invalid value encountered in divide\n",
      "/anaconda3/envs/fermi/lib/python2.7/site-packages/ipykernel_launcher.py:36: RuntimeWarning: divide by zero encountered in divide\n"
     ]
    }
   ],
   "source": [
    "d=spectrum_results[0]\n",
    "spec=d._p_list[ID_spec].data_unit[1].data\n",
    "arf=d._p_list[ID_arf].data_unit[1].data\n",
    "rmf=d._p_list[ID_rmf].data_unit[2].data\n",
    "ch=spec['CHANNEL']\n",
    "rate=spec['RATE']*0.\n",
    "err=spec['STAT_ERR']*0.\n",
    "syst=spec['SYS_ERR']*0.\n",
    "rate.fill(0)\n",
    "err.fill(0)\n",
    "syst.fill(0)\n",
    "qual=spec['QUALITY']\n",
    "matrix=rmf['MATRIX']*0.\n",
    "specresp=arf['SPECRESP']*0.\n",
    "tot_expos=0.\n",
    "corr_expos=np.zeros(len(rate))\n",
    "for k in range(len(scw_lists)):\n",
    "    d=spectrum_results[k]\n",
    "    spec=d._p_list[0].data_unit[1].data\n",
    "    arf=d._p_list[1].data_unit[1].data\n",
    "    rmf=d._p_list[2].data_unit[2].data\n",
    "    expos=d._p_list[0].data_unit[1].header['EXPOSURE']\n",
    "    tot_expos=tot_expos+expos\n",
    "    for j in range(len(rate)):\n",
    "        if(spec['QUALITY'][j]==0):          \n",
    "            rate[j]=rate[j]+spec['RATE'][j]/(spec['STAT_ERR'][j])**2\n",
    "            err[j]=err[j]+1./(spec['STAT_ERR'][j])**2\n",
    "            syst[j]=syst[j]+(spec['SYS_ERR'][j])**2*expos\n",
    "            corr_expos[j]=corr_expos[j]+expos\n",
    "\n",
    "    matrix=matrix+rmf['MATRIX']*expos\n",
    "    specresp=specresp+arf['SPECRESP']*expos\n",
    "\n",
    "\n",
    "rate=rate/err\n",
    "err=1/sqrt(err)\n",
    "matrix=matrix/tot_expos\n",
    "specresp=specresp/tot_expos\n",
    "syst=sqrt(syst/(corr_expos+1))\n",
    "\n"
   ]
  },
  {
   "cell_type": "code",
   "execution_count": 12,
   "metadata": {},
   "outputs": [
    {
     "name": "stdout",
     "output_type": "stream",
     "text": [
      "2466\n",
      "2581598.08366\n"
     ]
    }
   ],
   "source": [
    "specname=name+'_spectrum.fits'\n",
    "arfname=name+'_arf.fits.gz'\n",
    "rmfname=name+'_rmf.fits.gz'\n",
    "!cp spectrum.fits $specname\n",
    "!cp arf.fits.gz $arfname\n",
    "!cp rmf.fits.gz $rmfname\n",
    "\n",
    "hdul = fits.open(name+'_spectrum.fits', mode='update')\n",
    "hdr=hdul[1].header\n",
    "hdr.set('EXPOSURE', tot_expos)\n",
    "spec=hdul[1].data\n",
    "spec['RATE']=rate\n",
    "spec['SYS_ERR']=syst\n",
    "spec['STAT_ERR']=err\n",
    "hdul.flush()\n",
    "hdul.close()\n",
    "hdul = fits.open(name+'_rmf.fits.gz', mode='update')\n",
    "rmf=hdul[2].data\n",
    "print(rmf.size)\n",
    "#rmf['MATRIX']=matrix\n",
    "#hdul.flush()\n",
    "hdul.close()\n",
    "#hdul = fits.open(name+'_arf.fits.gz', mode='update')\n",
    "#arf=hdul[1].data\n",
    "#arf['SPECRESP']=specresp\n",
    "#hdul.flush()\n",
    "#hdul.close()\n",
    "print(tot_expos)"
   ]
  },
  {
   "cell_type": "code",
   "execution_count": 20,
   "metadata": {
    "scrolled": false
   },
   "outputs": [
    {
     "name": "stdout",
     "output_type": "stream",
     "text": [
      "\n",
      "\t\tXSPEC version: 12.9.0n\n",
      "\tBuild Date/Time: Tue Nov  8 18:03:34 2016\n",
      "\n",
      "XSPEC12>statistic chi\n",
      "Default fit statistic is set to: Chi-Squared\n",
      "   This will apply to all current and newly loaded spectra.\n",
      "XSPEC12>data NGC2110_spectrum.fits\n",
      "***Warning: POISSERR keyword is missing or of wrong format, assuming FALSE.\n",
      "\n",
      "1 spectrum  in use\n",
      " \n",
      "Spectral Data File: NGC2110_spectrum.fits  Spectrum 1\n",
      "Net count rate (cts/s) for Spectrum:1  nan       +/- nan      \n",
      " Assigned to Data Group 1 and Plot Group 1\n",
      "  Noticed Channels:  1-62\n",
      "  Telescope: INTEGRAL Instrument: IBIS  Channel Type: PI\n",
      "  Exposure Time: 2.582e+06 sec\n",
      " Using fit statistic: chi\n",
      " Using test statistic: chi\n",
      " No response loaded.\n",
      "\n",
      "***Warning!  One or more spectra are missing responses,\n",
      "               and are not suitable for fit.\n",
      "XSPEC12>response NGC2110_rmf.fits.gz\n",
      "Warning: RMF CHANTYPE keyword (PHA) is not consistent with that from spectrum (PI)\n",
      "Response successfully loaded.\n",
      "XSPEC12>arf NGC2110_arf.fits.gz\n",
      "Arf successfully loaded.\n",
      "XSPEC12>ignore bad\n",
      "\n",
      "ignore:     1 channels ignored from  source number 1\n",
      "XSPEC12>ignore **-20.\n",
      "     8 channels (1-8) ignored in spectrum #     1\n",
      "\n",
      "XSPEC12>ignore 1:300.-**\n",
      "     5 channels (58-62) ignored in spectrum #     1\n",
      "\n",
      "XSPEC12>method leven 10 0.01\n",
      "XSPEC12>abund angr\n",
      " Solar Abundance Vector set to angr:  Anders E. & Grevesse N. Geochimica et Cosmochimica Acta 53, 197 (1989)\n",
      "XSPEC12>xsect bcmc\n",
      " Cross Section Table set to bcmc:  Balucinska-Church and McCammon, 1998\n",
      "XSPEC12>cosmo 70 0 0.73\n",
      "XSPEC12>xset delta 0.01\n",
      "Parameter delta values for fits will now be 0.01 * parValue\n",
      "XSPEC12>systematic 0\n",
      " Model systematic error set to 0\n",
      "XSPEC12>model  cutoffpl\n",
      "\n",
      "Input parameter value, delta, min, bot, top, and max values for ...\n",
      "              1       0.01(      0.01)         -3         -2          9         10\n",
      "         10PhoIndex>         1.43356       0.01         -3         -2          9 \n",
      "             15       0.01(      0.15)       0.01          1        500        500\n",
      "       500:HighECut>         192.65       0.01       0.01          1        500  \n",
      "              1       0.01(      0.01)          0          0      1e+20      1e+24\n",
      " 1e+24ffpl:norm>      0.0104736       0.01          0          0      1e+20      \n",
      "\n",
      "========================================================================\n",
      "Model cutoffpl<1> Source No.: 1   Active/On\n",
      "Model Model Component  Parameter  Unit     Value\n",
      " par  comp\n",
      "   1    1   cutoffpl   PhoIndex            1.43356      +/-  0.0          \n",
      "   2    1   cutoffpl   HighECut   keV      192.650      +/-  0.0          \n",
      "   3    1   cutoffpl   norm                1.04736E-02  +/-  0.0          \n",
      "________________________________________________________________________\n",
      "\n",
      "\n",
      "Fit statistic : Chi-Squared =          89.45 using 49 PHA bins.\n",
      "\n",
      "Test statistic : Chi-Squared =          89.45 using 49 PHA bins.\n",
      " Reduced chi-squared =          1.944 for     46 degrees of freedom \n",
      " Null hypothesis probability =   1.306706e-04\n",
      " Current data and model not fit yet.\n",
      "XSPEC12>fit 100\n",
      "                                   Parameters\n",
      "Chi-Squared  |beta|/N    Lvl    1:PhoIndex    2:HighECut        3:norm\n",
      "89.4459      0.00037089   -3       1.43464       193.459     0.0105049\n",
      "========================================\n",
      " Variances and Principal Axes\n",
      "                 1        2        3  \n",
      " 1.0149E-08| -0.0392   0.0000   0.9992  \n",
      " 4.8442E-04|  0.9992  -0.0015   0.0392  \n",
      " 2.5207E+03| -0.0015  -1.0000  -0.0000  \n",
      "----------------------------------------\n",
      "\n",
      "====================================\n",
      "  Covariance Matrix\n",
      "        1           2           3   \n",
      "   6.176e-03   3.788e+00   1.912e-04\n",
      "   3.788e+00   2.521e+03   1.146e-01\n",
      "   1.912e-04   1.146e-01   5.964e-06\n",
      "------------------------------------\n",
      "\n",
      "========================================================================\n",
      "Model cutoffpl<1> Source No.: 1   Active/On\n",
      "Model Model Component  Parameter  Unit     Value\n",
      " par  comp\n",
      "   1    1   cutoffpl   PhoIndex            1.43464      +/-  7.85906E-02  \n",
      "   2    1   cutoffpl   HighECut   keV      193.459      +/-  50.2069      \n",
      "   3    1   cutoffpl   norm                1.05049E-02  +/-  2.44203E-03  \n",
      "________________________________________________________________________\n",
      "\n",
      "\n",
      "Fit statistic : Chi-Squared =          89.45 using 49 PHA bins.\n",
      "\n",
      "Test statistic : Chi-Squared =          89.45 using 49 PHA bins.\n",
      " Reduced chi-squared =          1.944 for     46 degrees of freedom \n",
      " Null hypothesis probability =   1.307007e-04\n",
      "XSPEC12>setplot rebin 10 100\n",
      "XSPEC12>plot eeufs\n",
      "XSPEC12>iplot\n",
      "PLT> wdata NGC2110_spectrum.txt\n",
      "PLT> XSPEC12>\n",
      " XSPEC: quit\n"
     ]
    }
   ],
   "source": [
    "!./spectrum_fit.sh $name $rebin"
   ]
  },
  {
   "cell_type": "code",
   "execution_count": 14,
   "metadata": {},
   "outputs": [
    {
     "name": "stdout",
     "output_type": "stream",
     "text": [
      "waiting for remote response, please wait run_analysis https://analyse-staging-1.2.reproducible.online/dispatch-data\n",
      "\n",
      "\n",
      "query done succesfully!\n"
     ]
    }
   ],
   "source": [
    "data=disp.get_product(instrument='isgri',\n",
    "                        product='isgri_spectrum',\n",
    "                        T1='2013-01-08T00:00:00',\n",
    "                        T2='2013-02-18T00:00:00',\n",
    "                        query_type='Real',\n",
    "                        osa_version='OSA10.2',\n",
    "                        RA=ra,\n",
    "                        DEC=dec,\n",
    "                        detection_threshold=5.0,\n",
    "                        radius=15.,\n",
    "                        product_type='Real',\n",
    "                        selected_catalog=api_cat)"
   ]
  },
  {
   "cell_type": "code",
   "execution_count": 15,
   "metadata": {},
   "outputs": [
    {
     "name": "stderr",
     "output_type": "stream",
     "text": [
      "WARNING: VerifyWarning: Keyword name u'query_status' is greater than 8 characters or contains characters not allowed by the FITS standard; a HIERARCH card will be created. [astropy.io.fits.card]\n",
      "WARNING: VerifyWarning: Keyword name u'instrument' is greater than 8 characters or contains characters not allowed by the FITS standard; a HIERARCH card will be created. [astropy.io.fits.card]\n",
      "WARNING: VerifyWarning: Keyword name u'osa_version' is greater than 8 characters or contains characters not allowed by the FITS standard; a HIERARCH card will be created. [astropy.io.fits.card]\n",
      "WARNING: VerifyWarning: Keyword name u'query_type' is greater than 8 characters or contains characters not allowed by the FITS standard; a HIERARCH card will be created. [astropy.io.fits.card]\n",
      "WARNING: VerifyWarning: Keyword name u'product_type' is greater than 8 characters or contains characters not allowed by the FITS standard; a HIERARCH card will be created. [astropy.io.fits.card]\n",
      "WARNING: VerifyWarning: Keyword name u'detection_threshold' is greater than 8 characters or contains characters not allowed by the FITS standard; a HIERARCH card will be created. [astropy.io.fits.card]\n",
      "WARNING: VerifyWarning: Keyword name u'session_id' is greater than 8 characters or contains characters not allowed by the FITS standard; a HIERARCH card will be created. [astropy.io.fits.card]\n"
     ]
    }
   ],
   "source": [
    "data._p_list[0].write_fits_file(name+'_flare_spectrum.fits')\n",
    "data._p_list[1].write_fits_file(name+'_flare_arf.fits.gz')\n",
    "data._p_list[2].write_fits_file(name+'_flare_rmf.fits.gz')"
   ]
  },
  {
   "cell_type": "code",
   "execution_count": 18,
   "metadata": {
    "scrolled": false
   },
   "outputs": [
    {
     "name": "stdout",
     "output_type": "stream",
     "text": [
      "\n",
      "\t\tXSPEC version: 12.9.0n\n",
      "\tBuild Date/Time: Tue Nov  8 18:03:34 2016\n",
      "\n",
      "XSPEC12>statistic chi\n",
      "Default fit statistic is set to: Chi-Squared\n",
      "   This will apply to all current and newly loaded spectra.\n",
      "XSPEC12>data NGC2110_flare_spectrum.fits\n",
      "***Warning: POISSERR keyword is missing or of wrong format, assuming FALSE.\n",
      "\n",
      "1 spectrum  in use\n",
      " \n",
      "Spectral Data File: NGC2110_flare_spectrum.fits  Spectrum 1\n",
      "Net count rate (cts/s) for Spectrum:1  nan       +/- nan      \n",
      " Assigned to Data Group 1 and Plot Group 1\n",
      "  Noticed Channels:  1-62\n",
      "  Telescope: INTEGRAL Instrument: IBIS  Channel Type: PI\n",
      "  Exposure Time: 1.057e+05 sec\n",
      " Using fit statistic: chi\n",
      " Using test statistic: chi\n",
      " No response loaded.\n",
      "\n",
      "***Warning!  One or more spectra are missing responses,\n",
      "               and are not suitable for fit.\n",
      "XSPEC12>response NGC2110_flare_rmf.fits.gz\n",
      "Warning: RMF CHANTYPE keyword (PHA) is not consistent with that from spectrum (PI)\n",
      "Response successfully loaded.\n",
      "XSPEC12>arf NGC2110_flare_arf.fits.gz\n",
      "Arf successfully loaded.\n",
      "XSPEC12>ignore bad\n",
      "\n",
      "ignore:     5 channels ignored from  source number 1\n",
      "XSPEC12>ignore **-20.\n",
      "     8 channels (1-8) ignored in spectrum #     1\n",
      "\n",
      "XSPEC12>ignore 1:300.-**\n",
      "     5 channels (58-62) ignored in spectrum #     1\n",
      "\n",
      "XSPEC12>method leven 10 0.01\n",
      "XSPEC12>abund angr\n",
      " Solar Abundance Vector set to angr:  Anders E. & Grevesse N. Geochimica et Cosmochimica Acta 53, 197 (1989)\n",
      "XSPEC12>xsect bcmc\n",
      " Cross Section Table set to bcmc:  Balucinska-Church and McCammon, 1998\n",
      "XSPEC12>cosmo 70 0 0.73\n",
      "XSPEC12>xset delta 0.01\n",
      "Parameter delta values for fits will now be 0.01 * parValue\n",
      "XSPEC12>systematic 0\n",
      " Model systematic error set to 0\n",
      "XSPEC12>model  cutoffpl\n",
      "\n",
      "Input parameter value, delta, min, bot, top, and max values for ...\n",
      "              1       0.01(      0.01)         -3         -2          9         10\n",
      "         10PhoIndex>         1.43356       0.01         -3         -2          9 \n",
      "             15       0.01(      0.15)       0.01          1        500        500\n",
      "      ffpl:HighECut>         192.65       0.01       0.01          1        500   500\n",
      "              1       0.01(      0.01)          0          0      1e+20      1e+24\n",
      " 1e+24ffpl:norm>      0.0104736       0.01          0          0      1e+20      \n",
      "\n",
      "========================================================================\n",
      "Model cutoffpl<1> Source No.: 1   Active/On\n",
      "Model Model Component  Parameter  Unit     Value\n",
      " par  comp\n",
      "   1    1   cutoffpl   PhoIndex            1.43356      +/-  0.0          \n",
      "   2    1   cutoffpl   HighECut   keV      192.650      +/-  0.0          \n",
      "   3    1   cutoffpl   norm                1.04736E-02  +/-  0.0          \n",
      "________________________________________________________________________\n",
      "\n",
      "\n",
      "Fit statistic : Chi-Squared =         669.10 using 49 PHA bins.\n",
      "\n",
      "Test statistic : Chi-Squared =         669.10 using 49 PHA bins.\n",
      " Reduced chi-squared =         14.546 for     46 degrees of freedom \n",
      " Null hypothesis probability =  1.675979e-111\n",
      " Current data and model not fit yet.\n",
      "XSPEC12>fit 100\n",
      "                                   Parameters\n",
      "Chi-Squared  |beta|/N    Lvl    1:PhoIndex    2:HighECut        3:norm\n",
      "38.8115      13.1627      -1       1.42889       141.871     0.0284236\n",
      "37.1337      541.604      -2       1.42170       127.853     0.0294059\n",
      "37.0991      74.2523      -3       1.41190       125.384     0.0286530\n",
      "37.0957      8.86127      -4       1.39715       121.481     0.0274182\n",
      "========================================\n",
      " Variances and Principal Axes\n",
      "                 1        2        3  \n",
      " 4.8889E-07| -0.1062   0.0001   0.9943  \n",
      " 3.8214E-03|  0.9943  -0.0034   0.1062  \n",
      " 3.8384E+03| -0.0034  -1.0000  -0.0003  \n",
      "----------------------------------------\n",
      "\n",
      "====================================\n",
      "  Covariance Matrix\n",
      "        1           2           3   \n",
      "   4.905e-02   1.318e+01   4.134e-03\n",
      "   1.318e+01   3.838e+03   1.086e+00\n",
      "   4.134e-03   1.086e+00   3.510e-04\n",
      "------------------------------------\n",
      "\n",
      "========================================================================\n",
      "Model cutoffpl<1> Source No.: 1   Active/On\n",
      "Model Model Component  Parameter  Unit     Value\n",
      " par  comp\n",
      "   1    1   cutoffpl   PhoIndex            1.39715      +/-  0.221477     \n",
      "   2    1   cutoffpl   HighECut   keV      121.481      +/-  61.9545      \n",
      "   3    1   cutoffpl   norm                2.74182E-02  +/-  1.87350E-02  \n",
      "________________________________________________________________________\n",
      "\n",
      "\n",
      "Fit statistic : Chi-Squared =          37.10 using 49 PHA bins.\n",
      "\n",
      "Test statistic : Chi-Squared =          37.10 using 49 PHA bins.\n",
      " Reduced chi-squared =         0.8064 for     46 degrees of freedom \n",
      " Null hypothesis probability =   8.225954e-01\n",
      "XSPEC12>setplot rebin 10 100\n",
      "XSPEC12>plot eeufs\n",
      "XSPEC12>iplot\n",
      "PLT> wdata NGC2110_flare_spectrum.txt\n",
      "PLT> XSPEC12>\n",
      " XSPEC: quit\n"
     ]
    }
   ],
   "source": [
    "name1=name+'_flare'\n",
    "!./spectrum_fit.sh $name1 $rebin"
   ]
  },
  {
   "cell_type": "code",
   "execution_count": 21,
   "metadata": {},
   "outputs": [
    {
     "data": {
      "image/png": "[encoded data removed]",
      "text/plain": [
       "<matplotlib.figure.Figure at 0x115e07d50>"
      ]
     },
     "metadata": {
      "needs_background": "light"
     },
     "output_type": "display_data"
    }
   ],
   "source": [
    "plt.figure(figsize=(10,7))\n",
    "\n",
    "spectrum=np.genfromtxt(name+'_spectrum.txt',skip_header=3)\n",
    "en=spectrum[:,0]\n",
    "en_err=spectrum[:,1]\n",
    "fl=spectrum[:,2]\n",
    "fl_err=spectrum[:,3]\n",
    "mo=spectrum[:,4]\n",
    "plt.errorbar(en,fl,xerr=en_err,yerr=fl_err,linestyle='none',linewidth=8,color='black',alpha=1)\n",
    "plt.plot(en,mo,color='black',linewidth=4)\n",
    "\n",
    "spectrum=np.genfromtxt(name+'_flare_spectrum.txt',skip_header=3)\n",
    "en=spectrum[:,0]\n",
    "en_err=spectrum[:,1]\n",
    "fl=spectrum[:,2]\n",
    "fl_err=spectrum[:,3]\n",
    "mo=spectrum[:,4]\n",
    "plt.errorbar(en,fl,xerr=en_err,yerr=fl_err,linestyle='none',linewidth=8,color='black',alpha=0.5)\n",
    "plt.plot(en,mo,color='black',linewidth=4,alpha=0.5)\n",
    "\n",
    "\n",
    "plt.tick_params(axis='both', which='major', labelsize=16)\n",
    "plt.xscale('log')\n",
    "plt.yscale('log')\n",
    "plt.ylim(1.e-2,6.e-1)\n",
    "plt.xlim(15,350)\n",
    "plt.xlabel('$E$, keV',fontsize=16)\n",
    "plt.ylabel('$E^2F_E$, keV/(cm$^2$s)',fontsize=16)\n",
    "plt.savefig(name+'_spectra.pdf',format='pdf',dpi=100)\n",
    "\n",
    "\n"
   ]
  },
  {
   "cell_type": "code",
   "execution_count": 22,
   "metadata": {
    "tags": [
     "outputs"
    ]
   },
   "outputs": [],
   "source": [
    "spectrum_NGC2110=name+'_spectra.pdf'"
   ]
  }
 ],
 "metadata": {
  "celltoolbar": "Tags",
  "kernelspec": {
   "display_name": "Python 2",
   "language": "python",
   "name": "python2"
  },
  "language_info": {
   "codemirror_mode": {
    "name": "ipython",
    "version": 2
   },
   "file_extension": ".py",
   "mimetype": "text/x-python",
   "name": "python",
   "nbconvert_exporter": "python",
   "pygments_lexer": "ipython2",
   "version": "2.7.14"
  }
 },
 "nbformat": 4,
 "nbformat_minor": 2
}
