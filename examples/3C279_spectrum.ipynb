{
 "cells": [
  {
   "cell_type": "code",
   "execution_count": 1,
   "metadata": {},
   "outputs": [],
   "source": [
    "from oda_api.api import DispatcherAPI\n",
    "from oda_api.plot_tools import OdaImage,OdaLightCurve\n",
    "from oda_api.data_products import BinaryData\n",
    "import os\n",
    "from astropy.io import fits\n",
    "import numpy as np\n",
    "from numpy import sqrt\n",
    "import matplotlib.pyplot as plt\n",
    "%matplotlib inline"
   ]
  },
  {
   "cell_type": "code",
   "execution_count": 30,
   "metadata": {
    "tags": [
     "parameters"
    ]
   },
   "outputs": [
    {
     "name": "stdout",
     "output_type": "stream",
     "text": [
      "-\n"
     ]
    }
   ],
   "source": [
    "source_name='3C 279'\n",
    "ra=194.046527\n",
    "dec=-5.789314\n",
    "scw_list='scws_3C279_isgri_10deg.txt'\n",
    "host='analyse-staging-1.2.reproducible.online' #choice between 'https://www.astro.unige.ch/cdci/astrooda' and 'analyse-staging-1.2.reproducible.online' \n",
    "if host=='analyse-staging-1.2.reproducible.online':\n",
    "    try:\n",
    "        token=raw_input() # token for restricted access server\n",
    "    except:\n",
    "        token=input() # token for restricted access server\n",
    "else:\n",
    "    token=''\n",
    "rebin=5 # minimal significance in energy bin, for spectral plotting"
   ]
  },
  {
   "cell_type": "code",
   "execution_count": 6,
   "metadata": {},
   "outputs": [],
   "source": [
    "name=source_name.replace(\" \", \"\")"
   ]
  },
  {
   "cell_type": "code",
   "execution_count": 7,
   "metadata": {},
   "outputs": [],
   "source": [
    "#disp=DispatcherAPI(host='https://www.astro.unige.ch/cdci/astrooda/dispatch-data',instrument='mock',protocol='https')\n",
    "cookies=dict(_oauth2_proxy=token)\n",
    "disp=DispatcherAPI(host=host+'/dispatch-data',instrument='mock',cookies=cookies,protocol='https')"
   ]
  },
  {
   "cell_type": "code",
   "execution_count": 8,
   "metadata": {},
   "outputs": [
    {
     "name": "stdout",
     "output_type": "stream",
     "text": [
      "25\n"
     ]
    }
   ],
   "source": [
    "f = open(scw_list, 'r')\n",
    "scws=[]\n",
    "for line in f:\n",
    "    line = line.strip()\n",
    "    columns = line.split()\n",
    "    scws.append(columns[0])\n",
    "f.close()\n",
    "m=int(len(scws)/50.)\n",
    "print(m)\n",
    "scw_lists=[]\n",
    "for i in range(m):\n",
    "    count=0\n",
    "    j=0    \n",
    "    scw_string=''\n",
    "    while(count<50):\n",
    "        scw_string=scw_string+str(scws[50*i+count])+','\n",
    "        count=count+1\n",
    "    scw_lists.append(scw_string[:-1])"
   ]
  },
  {
   "cell_type": "code",
   "execution_count": 9,
   "metadata": {},
   "outputs": [
    {
     "name": "stdout",
     "output_type": "stream",
     "text": [
      "waiting for remote response, please wait run_analysis https://analyse-staging-1.2.reproducible.online/dispatch-data\n",
      "\n",
      "\n",
      "query done succesfully!\n"
     ]
    }
   ],
   "source": [
    "data=disp.get_product(instrument='isgri',\n",
    "                      product='isgri_image',\n",
    "                      scw_list=scw_lists[0],\n",
    "                      E1_keV=20.0,\n",
    "                      E2_keV=40.0,\n",
    "                      osa_version='OSA10.2',\n",
    "                      RA=ra,\n",
    "                      DEC=dec,\n",
    "                      detection_threshold=3.5,\n",
    "                      product_type='Real')"
   ]
  },
  {
   "cell_type": "code",
   "execution_count": 10,
   "metadata": {
    "scrolled": true
   },
   "outputs": [
    {
     "data": {
      "text/html": [
       "&lt;Table length=10&gt;\n",
       "<table id=\"table4680039632\" class=\"table-striped table-bordered table-condensed\">\n",
       "<thead><tr><th>meta_ID</th><th>src_names</th><th>significance</th><th>ra</th><th>dec</th><th>NEW_SOURCE</th><th>ISGRI_FLAG</th><th>FLAG</th><th>ERR_RAD</th></tr></thead>\n",
       "<thead><tr><th></th><th></th><th></th><th>deg</th><th>deg</th><th></th><th></th><th></th><th></th></tr></thead>\n",
       "<thead><tr><th>int64</th><th>unicode15</th><th>float64</th><th>float64</th><th>float64</th><th>int64</th><th>int64</th><th>int64</th><th>object</th></tr></thead>\n",
       "<tr><td>2</td><td>3C 273</td><td>18.1703052521</td><td>187.28918457</td><td>2.05722475052</td><td>-32768</td><td>2</td><td>0</td><td>0.000280000007479</td></tr>\n",
       "<tr><td>3</td><td>3C 279</td><td>3.87942075729</td><td>194.046539307</td><td>-5.78930616379</td><td>-32768</td><td>2</td><td>0</td><td>0.000280000007479</td></tr>\n",
       "<tr><td>56</td><td>NGC 4388</td><td>5.55741548538</td><td>186.445541382</td><td>12.6620283127</td><td>-32768</td><td>2</td><td>0</td><td>0.000280000007479</td></tr>\n",
       "<tr><td>57</td><td>NGC 4593</td><td>14.2428922653</td><td>189.918258667</td><td>-5.36969470978</td><td>-32768</td><td>2</td><td>0</td><td>0.000280000007479</td></tr>\n",
       "<tr><td>60</td><td>NGC 4941</td><td>3.62514424324</td><td>196.054504395</td><td>-5.55158281326</td><td>-32768</td><td>2</td><td>0</td><td>0.000280000007479</td></tr>\n",
       "<tr><td>64</td><td>NGC 5506</td><td>4.18672180176</td><td>213.311950684</td><td>-3.20749998093</td><td>-32768</td><td>2</td><td>0</td><td>0.000280000007479</td></tr>\n",
       "<tr><td>65</td><td>PKS 1217+02</td><td>3.53256225586</td><td>185.082992554</td><td>2.0569999218</td><td>-32768</td><td>1</td><td>0</td><td>0.0583333335817</td></tr>\n",
       "<tr><td>74</td><td>NEW_1</td><td>6.10527467728</td><td>178.761611938</td><td>5.50525188446</td><td>-32767</td><td>0</td><td>0</td><td>None</td></tr>\n",
       "<tr><td>86</td><td>IGR J12131+0700</td><td>6.9958615303</td><td>183.20753479</td><td>6.9958615303</td><td>-32768</td><td>1</td><td>0</td><td>0.000277777784504</td></tr>\n",
       "<tr><td>122</td><td>NEW_1</td><td>6.09547710419</td><td>200.420806885</td><td>4.88880300522</td><td>-32767</td><td>0</td><td>0</td><td>None</td></tr>\n",
       "</table>"
      ],
      "text/plain": [
       "<Table length=10>\n",
       "meta_ID    src_names     significance ... ISGRI_FLAG  FLAG      ERR_RAD     \n",
       "                                      ...                                   \n",
       " int64     unicode15       float64    ...   int64    int64       object     \n",
       "------- --------------- ------------- ... ---------- ----- -----------------\n",
       "      2          3C 273 18.1703052521 ...          2     0 0.000280000007479\n",
       "      3          3C 279 3.87942075729 ...          2     0 0.000280000007479\n",
       "     56        NGC 4388 5.55741548538 ...          2     0 0.000280000007479\n",
       "     57        NGC 4593 14.2428922653 ...          2     0 0.000280000007479\n",
       "     60        NGC 4941 3.62514424324 ...          2     0 0.000280000007479\n",
       "     64        NGC 5506 4.18672180176 ...          2     0 0.000280000007479\n",
       "     65     PKS 1217+02 3.53256225586 ...          1     0   0.0583333335817\n",
       "     74           NEW_1 6.10527467728 ...          0     0              None\n",
       "     86 IGR J12131+0700  6.9958615303 ...          1     0 0.000277777784504\n",
       "    122           NEW_1 6.09547710419 ...          0     0              None"
      ]
     },
     "execution_count": 10,
     "metadata": {},
     "output_type": "execute_result"
    }
   ],
   "source": [
    "data.dispatcher_catalog_1.table"
   ]
  },
  {
   "cell_type": "code",
   "execution_count": 11,
   "metadata": {},
   "outputs": [],
   "source": [
    "torm=[]\n",
    "for ID,n in enumerate(data.dispatcher_catalog_1.table['src_names']):\n",
    "    if(n=='NEW_1'):\n",
    "        torm.append(ID)\n",
    "data.dispatcher_catalog_1.table.remove_rows(torm)"
   ]
  },
  {
   "cell_type": "code",
   "execution_count": 12,
   "metadata": {},
   "outputs": [
    {
     "data": {
      "text/html": [
       "&lt;Table length=8&gt;\n",
       "<table id=\"table4680039632\" class=\"table-striped table-bordered table-condensed\">\n",
       "<thead><tr><th>meta_ID</th><th>src_names</th><th>significance</th><th>ra</th><th>dec</th><th>NEW_SOURCE</th><th>ISGRI_FLAG</th><th>FLAG</th><th>ERR_RAD</th></tr></thead>\n",
       "<thead><tr><th></th><th></th><th></th><th>deg</th><th>deg</th><th></th><th></th><th></th><th></th></tr></thead>\n",
       "<thead><tr><th>int64</th><th>unicode15</th><th>float64</th><th>float64</th><th>float64</th><th>int64</th><th>int64</th><th>int64</th><th>object</th></tr></thead>\n",
       "<tr><td>2</td><td>3C 273</td><td>18.1703052521</td><td>187.28918457</td><td>2.05722475052</td><td>-32768</td><td>2</td><td>0</td><td>0.000280000007479</td></tr>\n",
       "<tr><td>3</td><td>3C 279</td><td>3.87942075729</td><td>194.046539307</td><td>-5.78930616379</td><td>-32768</td><td>2</td><td>0</td><td>0.000280000007479</td></tr>\n",
       "<tr><td>56</td><td>NGC 4388</td><td>5.55741548538</td><td>186.445541382</td><td>12.6620283127</td><td>-32768</td><td>2</td><td>0</td><td>0.000280000007479</td></tr>\n",
       "<tr><td>57</td><td>NGC 4593</td><td>14.2428922653</td><td>189.918258667</td><td>-5.36969470978</td><td>-32768</td><td>2</td><td>0</td><td>0.000280000007479</td></tr>\n",
       "<tr><td>60</td><td>NGC 4941</td><td>3.62514424324</td><td>196.054504395</td><td>-5.55158281326</td><td>-32768</td><td>2</td><td>0</td><td>0.000280000007479</td></tr>\n",
       "<tr><td>64</td><td>NGC 5506</td><td>4.18672180176</td><td>213.311950684</td><td>-3.20749998093</td><td>-32768</td><td>2</td><td>0</td><td>0.000280000007479</td></tr>\n",
       "<tr><td>65</td><td>PKS 1217+02</td><td>3.53256225586</td><td>185.082992554</td><td>2.0569999218</td><td>-32768</td><td>1</td><td>0</td><td>0.0583333335817</td></tr>\n",
       "<tr><td>86</td><td>IGR J12131+0700</td><td>6.9958615303</td><td>183.20753479</td><td>6.9958615303</td><td>-32768</td><td>1</td><td>0</td><td>0.000277777784504</td></tr>\n",
       "</table>"
      ],
      "text/plain": [
       "<Table length=8>\n",
       "meta_ID    src_names     significance ... ISGRI_FLAG  FLAG      ERR_RAD     \n",
       "                                      ...                                   \n",
       " int64     unicode15       float64    ...   int64    int64       object     \n",
       "------- --------------- ------------- ... ---------- ----- -----------------\n",
       "      2          3C 273 18.1703052521 ...          2     0 0.000280000007479\n",
       "      3          3C 279 3.87942075729 ...          2     0 0.000280000007479\n",
       "     56        NGC 4388 5.55741548538 ...          2     0 0.000280000007479\n",
       "     57        NGC 4593 14.2428922653 ...          2     0 0.000280000007479\n",
       "     60        NGC 4941 3.62514424324 ...          2     0 0.000280000007479\n",
       "     64        NGC 5506 4.18672180176 ...          2     0 0.000280000007479\n",
       "     65     PKS 1217+02 3.53256225586 ...          1     0   0.0583333335817\n",
       "     86 IGR J12131+0700  6.9958615303 ...          1     0 0.000277777784504"
      ]
     },
     "execution_count": 12,
     "metadata": {},
     "output_type": "execute_result"
    }
   ],
   "source": [
    "data.dispatcher_catalog_1.table\n"
   ]
  },
  {
   "cell_type": "code",
   "execution_count": 13,
   "metadata": {},
   "outputs": [],
   "source": [
    "api_cat=data.dispatcher_catalog_1.get_api_dictionary()"
   ]
  },
  {
   "cell_type": "code",
   "execution_count": 14,
   "metadata": {
    "scrolled": false
   },
   "outputs": [
    {
     "name": "stdout",
     "output_type": "stream",
     "text": [
      "0\n",
      "waiting for remote response, please wait run_analysis https://analyse-staging-1.2.reproducible.online/dispatch-data\n",
      "\n",
      "\n",
      "query done succesfully!\n",
      "1\n",
      "waiting for remote response, please wait run_analysis https://analyse-staging-1.2.reproducible.online/dispatch-data\n",
      "\n",
      "\n",
      "query done succesfully!\n",
      "2\n",
      "waiting for remote response, please wait run_analysis https://analyse-staging-1.2.reproducible.online/dispatch-data\n",
      "\n",
      "\n",
      "query done succesfully!\n",
      "3\n",
      "waiting for remote response, please wait run_analysis https://analyse-staging-1.2.reproducible.online/dispatch-data\n",
      "\n",
      "\n",
      "query done succesfully!\n",
      "4\n",
      "waiting for remote response, please wait run_analysis https://analyse-staging-1.2.reproducible.online/dispatch-data\n",
      "\n",
      "\n",
      "query done succesfully!\n",
      "5\n",
      "waiting for remote response, please wait run_analysis https://analyse-staging-1.2.reproducible.online/dispatch-data\n",
      "\n",
      "\n",
      "query done succesfully!\n",
      "6\n",
      "waiting for remote response, please wait run_analysis https://analyse-staging-1.2.reproducible.online/dispatch-data\n",
      "\n",
      "\n",
      "query done succesfully!\n",
      "7\n",
      "waiting for remote response, please wait run_analysis https://analyse-staging-1.2.reproducible.online/dispatch-data\n",
      "\n",
      "\n",
      "query done succesfully!\n",
      "8\n",
      "waiting for remote response, please wait run_analysis https://analyse-staging-1.2.reproducible.online/dispatch-data\n",
      "\n",
      "\n",
      "query done succesfully!\n",
      "9\n",
      "waiting for remote response, please wait run_analysis https://analyse-staging-1.2.reproducible.online/dispatch-data\n",
      "\n",
      "\n",
      "query done succesfully!\n",
      "10\n",
      "waiting for remote response, please wait run_analysis https://analyse-staging-1.2.reproducible.online/dispatch-data\n",
      "\n",
      "\n",
      "query done succesfully!\n",
      "11\n",
      "waiting for remote response, please wait run_analysis https://analyse-staging-1.2.reproducible.online/dispatch-data\n",
      "\n",
      "\n",
      "query done succesfully!\n",
      "12\n",
      "waiting for remote response, please wait run_analysis https://analyse-staging-1.2.reproducible.online/dispatch-data\n",
      "\n",
      "\n",
      "query done succesfully!\n",
      "13\n",
      "waiting for remote response, please wait run_analysis https://analyse-staging-1.2.reproducible.online/dispatch-data\n",
      "\n",
      "\n",
      "query done succesfully!\n",
      "14\n",
      "waiting for remote response, please wait run_analysis https://analyse-staging-1.2.reproducible.online/dispatch-data\n",
      "\n",
      "\n",
      "query done succesfully!\n",
      "15\n",
      "waiting for remote response, please wait run_analysis https://analyse-staging-1.2.reproducible.online/dispatch-data\n",
      "\n",
      "\n",
      "query done succesfully!\n",
      "16\n",
      "waiting for remote response, please wait run_analysis https://analyse-staging-1.2.reproducible.online/dispatch-data\n",
      "\n",
      "\n",
      "query done succesfully!\n",
      "17\n",
      "waiting for remote response, please wait run_analysis https://analyse-staging-1.2.reproducible.online/dispatch-data\n",
      "\n",
      "\n",
      "query done succesfully!\n",
      "18\n",
      "waiting for remote response, please wait run_analysis https://analyse-staging-1.2.reproducible.online/dispatch-data\n",
      "\n",
      "\n",
      "query done succesfully!\n",
      "19\n",
      "waiting for remote response, please wait run_analysis https://analyse-staging-1.2.reproducible.online/dispatch-data\n",
      "\n",
      "\n",
      "query done succesfully!\n",
      "20\n",
      "waiting for remote response, please wait run_analysis https://analyse-staging-1.2.reproducible.online/dispatch-data\n",
      "\n",
      "\n",
      "query done succesfully!\n",
      "21\n",
      "waiting for remote response, please wait run_analysis https://analyse-staging-1.2.reproducible.online/dispatch-data\n",
      "\n",
      "\n",
      "query done succesfully!\n",
      "22\n",
      "waiting for remote response, please wait run_analysis https://analyse-staging-1.2.reproducible.online/dispatch-data\n",
      "\n",
      "\n",
      "query done succesfully!\n",
      "23\n",
      "waiting for remote response, please wait run_analysis https://analyse-staging-1.2.reproducible.online/dispatch-data\n",
      "\n",
      "\n",
      "query done succesfully!\n",
      "24\n",
      "waiting for remote response, please wait run_analysis https://analyse-staging-1.2.reproducible.online/dispatch-data\n",
      "\n",
      "\n",
      "query done succesfully!\n"
     ]
    }
   ],
   "source": [
    "spectrum_results=[]\n",
    "for i in range(len(scw_lists)):\n",
    "    print(i)\n",
    "    data=disp.get_product(instrument='isgri',\n",
    "                            product='isgri_spectrum',\n",
    "                            scw_list=scw_lists[i],\n",
    "                            query_type='Real',\n",
    "                            osa_version='OSA10.2',\n",
    "                            RA=ra,\n",
    "                            DEC=dec,\n",
    "                            detection_threshold=5.0,\n",
    "                            radius=15.,\n",
    "                            product_type='Real',\n",
    "                            selected_catalog=api_cat)\n",
    "    spectrum_results.append(data)"
   ]
  },
  {
   "cell_type": "code",
   "execution_count": 15,
   "metadata": {},
   "outputs": [
    {
     "name": "stdout",
     "output_type": "stream",
     "text": [
      "(0, 1, 2)\n"
     ]
    }
   ],
   "source": [
    "for ID,s in enumerate(data._p_list):\n",
    "    if (s.meta_data['src_name']==source_name):\n",
    "        if(s.meta_data['product']=='isgri_spectrum'):\n",
    "            ID_spec=ID\n",
    "        if(s.meta_data['product']=='isgri_arf'):\n",
    "            ID_arf=ID\n",
    "        if(s.meta_data['product']=='isgri_rmf'):\n",
    "            ID_rmf=ID\n",
    "\n",
    "print(ID_spec, ID_arf, ID_rmf)\n",
    "\n",
    "                                             "
   ]
  },
  {
   "cell_type": "code",
   "execution_count": 16,
   "metadata": {},
   "outputs": [
    {
     "name": "stderr",
     "output_type": "stream",
     "text": [
      "/anaconda3/envs/fermi/lib/python2.7/site-packages/ipykernel_launcher.py:7: RuntimeWarning: invalid value encountered in multiply\n",
      "  import sys\n",
      "/anaconda3/envs/fermi/lib/python2.7/site-packages/ipykernel_launcher.py:35: RuntimeWarning: invalid value encountered in divide\n",
      "/anaconda3/envs/fermi/lib/python2.7/site-packages/ipykernel_launcher.py:36: RuntimeWarning: divide by zero encountered in divide\n"
     ]
    }
   ],
   "source": [
    "d=spectrum_results[0]\n",
    "spec=d._p_list[ID_spec].data_unit[1].data\n",
    "arf=d._p_list[ID_arf].data_unit[1].data\n",
    "rmf=d._p_list[ID_rmf].data_unit[2].data\n",
    "ch=spec['CHANNEL']\n",
    "rate=spec['RATE']*0.\n",
    "err=spec['STAT_ERR']*0.\n",
    "syst=spec['SYS_ERR']*0.\n",
    "rate.fill(0)\n",
    "err.fill(0)\n",
    "syst.fill(0)\n",
    "qual=spec['QUALITY']\n",
    "matrix=rmf['MATRIX']*0.\n",
    "specresp=arf['SPECRESP']*0.\n",
    "tot_expos=0.\n",
    "corr_expos=np.zeros(len(rate))\n",
    "for k in range(len(scw_lists)):\n",
    "    d=spectrum_results[k]\n",
    "    spec=d._p_list[ID_spec].data_unit[1].data\n",
    "    arf=d._p_list[ID_arf].data_unit[1].data\n",
    "    rmf=d._p_list[ID_rmf].data_unit[2].data\n",
    "    expos=d._p_list[0].data_unit[1].header['EXPOSURE']\n",
    "    tot_expos=tot_expos+expos\n",
    "    for j in range(len(rate)):\n",
    "        if(spec['QUALITY'][j]==0):          \n",
    "            rate[j]=rate[j]+spec['RATE'][j]/(spec['STAT_ERR'][j])**2\n",
    "            err[j]=err[j]+1./(spec['STAT_ERR'][j])**2\n",
    "            syst[j]=syst[j]+(spec['SYS_ERR'][j])**2*expos\n",
    "            corr_expos[j]=corr_expos[j]+expos\n",
    "\n",
    "    matrix=matrix+rmf['MATRIX']*expos\n",
    "    specresp=specresp+arf['SPECRESP']*expos\n",
    "\n",
    "\n",
    "rate=rate/err\n",
    "err=1/sqrt(err)\n",
    "matrix=matrix/tot_expos\n",
    "specresp=specresp/tot_expos\n",
    "syst=sqrt(syst/(corr_expos+1))\n",
    "\n"
   ]
  },
  {
   "cell_type": "code",
   "execution_count": 17,
   "metadata": {},
   "outputs": [
    {
     "name": "stdout",
     "output_type": "stream",
     "text": [
      "2399685.95496\n"
     ]
    }
   ],
   "source": [
    "specname=name+'_spectrum.fits'\n",
    "arfname=name+'_arf.fits.gz'\n",
    "rmfname=name+'_rmf.fits.gz'\n",
    "!cp spectrum.fits $specname\n",
    "!cp arf.fits.gz $arfname\n",
    "!cp rmf.fits.gz $rmfname\n",
    "\n",
    "hdul = fits.open(name+'_spectrum.fits', mode='update')\n",
    "hdr=hdul[1].header\n",
    "hdr.set('EXPOSURE', tot_expos)\n",
    "spec=hdul[1].data\n",
    "spec['RATE']=rate\n",
    "spec['SYS_ERR']=syst\n",
    "spec['STAT_ERR']=err\n",
    "hdul.flush()\n",
    "hdul.close()\n",
    "hdul = fits.open(name+'_rmf.fits.gz', mode='update')\n",
    "rmf=hdul[2].data\n",
    "rmf['MATRIX']=matrix\n",
    "hdul.flush()\n",
    "hdul.close()\n",
    "hdul = fits.open(name+'_arf.fits.gz', mode='update')\n",
    "arf=hdul[1].data\n",
    "arf['SPECRESP']=specresp\n",
    "hdul.flush()\n",
    "hdul.close()\n",
    "print(tot_expos)"
   ]
  },
  {
   "cell_type": "code",
   "execution_count": 19,
   "metadata": {
    "scrolled": false
   },
   "outputs": [
    {
     "name": "stdout",
     "output_type": "stream",
     "text": [
      "\n",
      "\t\tXSPEC version: 12.9.0n\n",
      "\tBuild Date/Time: Tue Nov  8 18:03:34 2016\n",
      "\n",
      "XSPEC12>statistic chi\n",
      "Default fit statistic is set to: Chi-Squared\n",
      "   This will apply to all current and newly loaded spectra.\n",
      "XSPEC12>data 3C279_spectrum.fits\n",
      "***Warning: POISSERR keyword is missing or of wrong format, assuming FALSE.\n",
      "\n",
      "1 spectrum  in use\n",
      " \n",
      "Spectral Data File: 3C279_spectrum.fits  Spectrum 1\n",
      "Net count rate (cts/s) for Spectrum:1  nan       +/- nan      \n",
      " Assigned to Data Group 1 and Plot Group 1\n",
      "  Noticed Channels:  1-62\n",
      "  Telescope: INTEGRAL Instrument: IBIS  Channel Type: PI\n",
      "  Exposure Time: 2.4e+06 sec\n",
      " Using fit statistic: chi\n",
      " Using test statistic: chi\n",
      " No response loaded.\n",
      "\n",
      "***Warning!  One or more spectra are missing responses,\n",
      "               and are not suitable for fit.\n",
      "XSPEC12>response 3C279_rmf.fits.gz\n",
      "Warning: RMF CHANTYPE keyword (PHA) is not consistent with that from spectrum (PI)\n",
      "Response successfully loaded.\n",
      "XSPEC12>arf 3C279_arf.fits.gz\n",
      "Arf successfully loaded.\n",
      "XSPEC12>ignore bad\n",
      "\n",
      "ignore:     1 channels ignored from  source number 1\n",
      "XSPEC12>ignore **-20.\n",
      "     8 channels (1-8) ignored in spectrum #     1\n",
      "\n",
      "XSPEC12>ignore 1:300.-**\n",
      "     5 channels (58-62) ignored in spectrum #     1\n",
      "\n",
      "XSPEC12>method leven 10 0.01\n",
      "XSPEC12>abund angr\n",
      " Solar Abundance Vector set to angr:  Anders E. & Grevesse N. Geochimica et Cosmochimica Acta 53, 197 (1989)\n",
      "XSPEC12>xsect bcmc\n",
      " Cross Section Table set to bcmc:  Balucinska-Church and McCammon, 1998\n",
      "XSPEC12>cosmo 70 0 0.73\n",
      "XSPEC12>xset delta 0.01\n",
      "Parameter delta values for fits will now be 0.01 * parValue\n",
      "XSPEC12>systematic 0\n",
      " Model systematic error set to 0\n",
      "XSPEC12>model  cutoffpl\n",
      "\n",
      "Input parameter value, delta, min, bot, top, and max values for ...\n",
      "              1       0.01(      0.01)         -3         -2          9         10\n",
      "         10PhoIndex>         1.43356       0.01         -3         -2          9 \n",
      "             15       0.01(      0.15)       0.01          1        500        500\n",
      "       500:HighECut>         192.65       0.01       0.01          1        500  \n",
      "              1       0.01(      0.01)          0          0      1e+20      1e+24\n",
      " 1e+24ffpl:norm>      0.0104736       0.01          0          0      1e+20      \n",
      "\n",
      "========================================================================\n",
      "Model cutoffpl<1> Source No.: 1   Active/On\n",
      "Model Model Component  Parameter  Unit     Value\n",
      " par  comp\n",
      "   1    1   cutoffpl   PhoIndex            1.43356      +/-  0.0          \n",
      "   2    1   cutoffpl   HighECut   keV      192.650      +/-  0.0          \n",
      "   3    1   cutoffpl   norm                1.04736E-02  +/-  0.0          \n",
      "________________________________________________________________________\n",
      "\n",
      "\n",
      "Fit statistic : Chi-Squared =        8016.15 using 49 PHA bins.\n",
      "\n",
      "Test statistic : Chi-Squared =        8016.15 using 49 PHA bins.\n",
      " Reduced chi-squared =        174.264 for     46 degrees of freedom \n",
      " Null hypothesis probability =   0.000000e+00\n",
      " Current data and model not fit yet.\n",
      "XSPEC12>fit 100\n",
      "                                   Parameters\n",
      "Chi-Squared  |beta|/N    Lvl    1:PhoIndex    2:HighECut        3:norm\n",
      "85.9802      7.83913      -1       1.45053       405.509    0.00122869\n",
      "85.6639      7505.92      -1       1.44133       485.735    0.00114908\n",
      "84.6056      8622.79      -1       1.42815       498.042    0.00110147\n",
      "83.6442      8620.96      -1       1.41519       499.093    0.00105964\n",
      "82.7665      8523.24      -1       1.40277       499.665    0.00102100\n",
      "81.9729      8391.85      -1       1.39087       499.957   0.000985135\n",
      "81.2561      8236.11      -1       1.37946       499.993   0.000951771\n",
      "80.6071      8058.05      -1       1.36852       499.997   0.000920676\n",
      "80.0192      7857.76      -1       1.35803       499.999   0.000891652\n",
      "79.8553      7635.8       -2       1.30729       500.000   0.000719690\n",
      "76.5827      11113.2      -2       1.24966       500.000   0.000615182\n",
      "75.4582      6709.71      -2       1.19947       481.271   0.000532881\n",
      "75.4056      1396.53      -2       1.15528       327.496   0.000467408\n",
      "75.0157      4217.75      -2       1.11679       314.921   0.000412953\n",
      "74.8832      1221.2       -2       1.08070       262.293   0.000370575\n",
      "74.7193      2379.85      -2       1.04855       242.186   0.000334775\n",
      "74.6082      1336.85      -2       1.01886       219.934   0.000305480\n",
      "74.5095      1474.17      -2      0.991813       204.695   0.000280707\n",
      "74.4283      1198.43      -2      0.966927       191.814   0.000259768\n",
      "74.3593      1091.63      -2      0.944037       181.417   0.000241848\n",
      "74.3009      955.823      -2      0.922929       172.718   0.000226417\n",
      "74.2511      844.104      -2      0.903441       165.383   0.000213036\n",
      "74.2085      740.998      -2      0.885422       159.117   0.000201362\n",
      "74.172       648.908      -2      0.868740       153.713   0.000191120\n",
      "74.1407      566.229      -2      0.853281       149.015   0.000182090\n",
      "74.1137      492.147      -2      0.838939       144.900   0.000174091\n",
      "74.0905      425.973      -2      0.825624       141.273   0.000166978\n",
      "74.0704      366.86       -2      0.813252       138.058   0.000160626\n",
      "74.053       314.358      -2      0.801747       135.193   0.000154934\n",
      "74.038       267.806      -2      0.791041       132.630   0.000149818\n",
      "74.025       226.586      -2      0.781073       130.327   0.000145206\n",
      "74.0136      190.208      -2      0.771787       128.251   0.000141035\n",
      "74.0038      158.25       -2      0.763131       126.373   0.000137255\n",
      "========================================\n",
      " Variances and Principal Axes\n",
      "                 1        2        3  \n",
      " 8.3517E-11| -0.0006   0.0000   1.0000  \n",
      " 1.6806E-02|  1.0000  -0.0039   0.0006  \n",
      " 1.4634E+04| -0.0039  -1.0000  -0.0000  \n",
      "----------------------------------------\n",
      "\n",
      "====================================\n",
      "  Covariance Matrix\n",
      "        1           2           3   \n",
      "   2.347e-01   5.647e+01   1.017e-04\n",
      "   5.647e+01   1.463e+04   2.393e-02\n",
      "   1.017e-04   2.393e-02   4.445e-08\n",
      "------------------------------------\n",
      "\n",
      "========================================================================\n",
      "Model cutoffpl<1> Source No.: 1   Active/On\n",
      "Model Model Component  Parameter  Unit     Value\n",
      " par  comp\n",
      "   1    1   cutoffpl   PhoIndex            0.763131     +/-  0.484482     \n",
      "   2    1   cutoffpl   HighECut   keV      126.373      +/-  120.971      \n",
      "   3    1   cutoffpl   norm                1.37255E-04  +/-  2.10827E-04  \n",
      "________________________________________________________________________\n",
      "\n",
      "\n",
      "Fit statistic : Chi-Squared =          74.00 using 49 PHA bins.\n",
      "\n",
      "Test statistic : Chi-Squared =          74.00 using 49 PHA bins.\n",
      " Reduced chi-squared =          1.609 for     46 degrees of freedom \n",
      " Null hypothesis probability =   5.497382e-03\n",
      "XSPEC12>setplot rebin 5 100\n",
      "XSPEC12>plot eeufs\n",
      "XSPEC12>iplot\n",
      "PLT> wdata 3C279_spectrum.txt\n",
      "PLT> XSPEC12>\n",
      " XSPEC: quit\n"
     ]
    }
   ],
   "source": [
    "!./spectrum_fit.sh $name $rebin"
   ]
  },
  {
   "cell_type": "code",
   "execution_count": 20,
   "metadata": {},
   "outputs": [
    {
     "name": "stdout",
     "output_type": "stream",
     "text": [
      "waiting for remote response, please wait run_analysis https://analyse-staging-1.2.reproducible.online/dispatch-data\n",
      "\n",
      "\n",
      "query done succesfully!\n"
     ]
    }
   ],
   "source": [
    "data=disp.get_product(instrument='isgri',\n",
    "                        product='isgri_spectrum',\n",
    "                        T1='2015-06-15T15:56:45',\n",
    "                        T2='2015-06-16T06:13:10',\n",
    "                        query_type='Real',\n",
    "                        osa_version='OSA10.2',\n",
    "                        RA=ra,\n",
    "                        DEC=dec,\n",
    "                        detection_threshold=5.0,\n",
    "                        radius=15.,\n",
    "                        product_type='Real',\n",
    "                        selected_catalog=api_cat)"
   ]
  },
  {
   "cell_type": "code",
   "execution_count": 21,
   "metadata": {},
   "outputs": [
    {
     "name": "stderr",
     "output_type": "stream",
     "text": [
      "WARNING: VerifyWarning: Keyword name u'query_status' is greater than 8 characters or contains characters not allowed by the FITS standard; a HIERARCH card will be created. [astropy.io.fits.card]\n",
      "WARNING: VerifyWarning: Keyword name u'instrument' is greater than 8 characters or contains characters not allowed by the FITS standard; a HIERARCH card will be created. [astropy.io.fits.card]\n",
      "WARNING: VerifyWarning: Keyword name u'osa_version' is greater than 8 characters or contains characters not allowed by the FITS standard; a HIERARCH card will be created. [astropy.io.fits.card]\n",
      "WARNING: VerifyWarning: Keyword name u'query_type' is greater than 8 characters or contains characters not allowed by the FITS standard; a HIERARCH card will be created. [astropy.io.fits.card]\n",
      "WARNING: VerifyWarning: Keyword name u'product_type' is greater than 8 characters or contains characters not allowed by the FITS standard; a HIERARCH card will be created. [astropy.io.fits.card]\n",
      "WARNING: VerifyWarning: Keyword name u'detection_threshold' is greater than 8 characters or contains characters not allowed by the FITS standard; a HIERARCH card will be created. [astropy.io.fits.card]\n",
      "WARNING: VerifyWarning: Keyword name u'session_id' is greater than 8 characters or contains characters not allowed by the FITS standard; a HIERARCH card will be created. [astropy.io.fits.card]\n"
     ]
    }
   ],
   "source": [
    "data._p_list[0].write_fits_file(name+'_flare_spectrum.fits')\n",
    "data._p_list[1].write_fits_file(name+'_flare_arf.fits.gz')\n",
    "data._p_list[2].write_fits_file(name+'_flare_rmf.fits.gz')"
   ]
  },
  {
   "cell_type": "code",
   "execution_count": 28,
   "metadata": {
    "scrolled": false
   },
   "outputs": [
    {
     "name": "stdout",
     "output_type": "stream",
     "text": [
      "\n",
      "\t\tXSPEC version: 12.9.0n\n",
      "\tBuild Date/Time: Tue Nov  8 18:03:34 2016\n",
      "\n",
      "XSPEC12>statistic chi\n",
      "Default fit statistic is set to: Chi-Squared\n",
      "   This will apply to all current and newly loaded spectra.\n",
      "XSPEC12>data 3C279_flare_spectrum.fits\n",
      "***Warning: POISSERR keyword is missing or of wrong format, assuming FALSE.\n",
      "\n",
      "1 spectrum  in use\n",
      " \n",
      "Spectral Data File: 3C279_flare_spectrum.fits  Spectrum 1\n",
      "Net count rate (cts/s) for Spectrum:1  nan       +/- nan      \n",
      " Assigned to Data Group 1 and Plot Group 1\n",
      "  Noticed Channels:  1-62\n",
      "  Telescope: INTEGRAL Instrument: IBIS  Channel Type: PI\n",
      "  Exposure Time: 2.135e+04 sec\n",
      " Using fit statistic: chi\n",
      " Using test statistic: chi\n",
      " No response loaded.\n",
      "\n",
      "***Warning!  One or more spectra are missing responses,\n",
      "               and are not suitable for fit.\n",
      "XSPEC12>response 3C279_flare_rmf.fits.gz\n",
      "Warning: RMF CHANTYPE keyword (PHA) is not consistent with that from spectrum (PI)\n",
      "Response successfully loaded.\n",
      "XSPEC12>arf 3C279_flare_arf.fits.gz\n",
      "Arf successfully loaded.\n",
      "XSPEC12>ignore bad\n",
      "\n",
      "ignore:     6 channels ignored from  source number 1\n",
      "XSPEC12>ignore **-20.\n",
      "     8 channels (1-8) ignored in spectrum #     1\n",
      "\n",
      "XSPEC12>ignore 1:300.-**\n",
      "     5 channels (58-62) ignored in spectrum #     1\n",
      "\n",
      "XSPEC12>method leven 10 0.01\n",
      "XSPEC12>abund angr\n",
      " Solar Abundance Vector set to angr:  Anders E. & Grevesse N. Geochimica et Cosmochimica Acta 53, 197 (1989)\n",
      "XSPEC12>xsect bcmc\n",
      " Cross Section Table set to bcmc:  Balucinska-Church and McCammon, 1998\n",
      "XSPEC12>cosmo 70 0 0.73\n",
      "XSPEC12>xset delta 0.01\n",
      "Parameter delta values for fits will now be 0.01 * parValue\n",
      "XSPEC12>systematic 0\n",
      " Model systematic error set to 0\n",
      "XSPEC12>model  cutoffpl\n",
      "\n",
      "Input parameter value, delta, min, bot, top, and max values for ...\n",
      "              1       0.01(      0.01)         -3         -2          9         10\n",
      "         10PhoIndex>         1.43356       0.01         -3         -2          9 \n",
      "             15       0.01(      0.15)       0.01          1        500        500\n",
      "       500:HighECut>         192.65       0.01       0.01          1        500  \n",
      "              1       0.01(      0.01)          0          0      1e+20      1e+24\n",
      " 1e+24ffpl:norm>      0.0104736       0.01          0          0      1e+20      \n",
      "\n",
      "========================================================================\n",
      "Model cutoffpl<1> Source No.: 1   Active/On\n",
      "Model Model Component  Parameter  Unit     Value\n",
      " par  comp\n",
      "   1    1   cutoffpl   PhoIndex            1.43356      +/-  0.0          \n",
      "   2    1   cutoffpl   HighECut   keV      192.650      +/-  0.0          \n",
      "   3    1   cutoffpl   norm                1.04736E-02  +/-  0.0          \n",
      "________________________________________________________________________\n",
      "\n",
      "\n",
      "Fit statistic : Chi-Squared =          38.20 using 49 PHA bins.\n",
      "\n",
      "Test statistic : Chi-Squared =          38.20 using 49 PHA bins.\n",
      " Reduced chi-squared =         0.8304 for     46 degrees of freedom \n",
      " Null hypothesis probability =   7.863328e-01\n",
      " Current data and model not fit yet.\n",
      "XSPEC12>fit 100\n",
      "                                   Parameters\n",
      "Chi-Squared  |beta|/N    Lvl    1:PhoIndex    2:HighECut        3:norm\n",
      "33.7073      0.309671     -1       1.42419       225.984    0.00646617\n",
      "33.6891      2.39858      -1       1.41071       226.300    0.00617698\n",
      "33.673       2.8407       -1       1.39727       217.189    0.00592337\n",
      "33.6573      2.40162      -1       1.38401       209.442    0.00568283\n",
      "33.642       2.56224      -1       1.37092       202.266    0.00545523\n",
      "33.6271      2.66472      -1       1.35803       195.691    0.00523962\n",
      "33.6126      2.77896      -1       1.34533       189.641    0.00503531\n",
      "33.5985      2.89305      -1       1.33281       184.014    0.00484174\n",
      "33.5847      3.00078      -1       1.32046       178.747    0.00465826\n",
      "33.5714      3.10585      -1       1.30828       173.839    0.00448410\n",
      "33.5583      3.21873      -1       1.29627       169.234    0.00431874\n",
      "33.5456      3.32839      -1       1.28441       164.919    0.00416157\n",
      "33.5333      3.44217      -1       1.27272       160.867    0.00401210\n",
      "33.5212      3.55744      -1       1.26117       157.053    0.00386989\n",
      "33.5094      3.67271      -1       1.24978       153.462    0.00373448\n",
      "33.498       3.79032      -1       1.23854       150.065    0.00360551\n",
      "33.4868      3.90635      -1       1.22745       146.858    0.00348257\n",
      "33.4759      4.02641      -1       1.21650       143.819    0.00336534\n",
      "33.4653      4.14545      -1       1.20569       140.935    0.00325349\n",
      "33.4549      4.2648       -1       1.19502       138.194    0.00314673\n",
      "33.4448      4.38548      -1       1.18448       135.588    0.00304475\n",
      "33.4349      4.50751      -1       1.17407       133.106    0.00294730\n",
      "========================================\n",
      " Variances and Principal Axes\n",
      "                 1        2        3  \n",
      " 5.1205E-07| -0.0117   0.0000   0.9999  \n",
      " 3.0002E-01|  0.9999  -0.0033   0.0117  \n",
      " 3.6744E+05| -0.0033  -1.0000  -0.0000  \n",
      "----------------------------------------\n",
      "\n",
      "====================================\n",
      "  Covariance Matrix\n",
      "        1           2           3   \n",
      "   4.194e+00   1.196e+03   3.872e-02\n",
      "   1.196e+03   3.674e+05   1.081e+01\n",
      "   3.872e-02   1.081e+01   3.599e-04\n",
      "------------------------------------\n",
      "\n",
      "========================================================================\n",
      "Model cutoffpl<1> Source No.: 1   Active/On\n",
      "Model Model Component  Parameter  Unit     Value\n",
      " par  comp\n",
      "   1    1   cutoffpl   PhoIndex            1.17407      +/-  2.04785      \n",
      "   2    1   cutoffpl   HighECut   keV      133.106      +/-  606.164      \n",
      "   3    1   cutoffpl   norm                2.94730E-03  +/-  1.89716E-02  \n",
      "________________________________________________________________________\n",
      "\n",
      "\n",
      "Fit statistic : Chi-Squared =          33.43 using 49 PHA bins.\n",
      "\n",
      "Test statistic : Chi-Squared =          33.43 using 49 PHA bins.\n",
      " Reduced chi-squared =         0.7268 for     46 degrees of freedom \n",
      " Null hypothesis probability =   9.164462e-01\n",
      "XSPEC12>setplot rebin 5 10\n",
      "XSPEC12>plot eeufs\n",
      "XSPEC12>iplot\n",
      "PLT> wdata 3C279_flare_spectrum.txt\n",
      "PLT> XSPEC12>\n",
      " XSPEC: quit\n"
     ]
    }
   ],
   "source": [
    "name1=name+'_flare'\n",
    "!./spectrum_fit.sh $name1 $rebin"
   ]
  },
  {
   "cell_type": "code",
   "execution_count": 29,
   "metadata": {},
   "outputs": [
    {
     "data": {
      "image/png": "[encoded data removed]",
      "text/plain": [
       "<matplotlib.figure.Figure at 0x118314410>"
      ]
     },
     "metadata": {
      "needs_background": "light"
     },
     "output_type": "display_data"
    }
   ],
   "source": [
    "plt.figure(figsize=(10,7))\n",
    "\n",
    "spectrum=np.genfromtxt(name+'_spectrum.txt',skip_header=3)\n",
    "en=spectrum[:,0]\n",
    "en_err=spectrum[:,1]\n",
    "fl=spectrum[:,2]\n",
    "fl_err=spectrum[:,3]\n",
    "mo=spectrum[:,4]\n",
    "plt.errorbar(en,fl,xerr=en_err,yerr=fl_err,linestyle='none',linewidth=8,color='black',alpha=1)\n",
    "plt.plot(en,mo,color='black',linewidth=4)\n",
    "\n",
    "spectrum=np.genfromtxt(name+'_flare_spectrum.txt',skip_header=3)\n",
    "en=spectrum[:,0]\n",
    "en_err=spectrum[:,1]\n",
    "fl=spectrum[:,2]\n",
    "fl_err=spectrum[:,3]\n",
    "mo=spectrum[:,4]\n",
    "plt.errorbar(en,fl,xerr=en_err,yerr=fl_err,linestyle='none',linewidth=8,color='black',alpha=0.5)\n",
    "plt.plot(en,mo,color='black',linewidth=4,alpha=0.5)\n",
    "\n",
    "\n",
    "plt.tick_params(axis='both', which='major', labelsize=16)\n",
    "plt.xscale('log')\n",
    "plt.yscale('log')\n",
    "plt.ylim(1.e-3,6.e-1)\n",
    "plt.xlim(15,350)\n",
    "plt.xlabel('$E$, keV',fontsize=16)\n",
    "plt.ylabel('$E^2F_E$, keV/(cm$^2$s)',fontsize=16)\n",
    "plt.savefig(name+'_spectra.pdf',format='pdf',dpi=100)\n",
    "\n",
    "\n"
   ]
  },
  {
   "cell_type": "code",
   "execution_count": 23,
   "metadata": {
    "tags": [
     "outputs"
    ]
   },
   "outputs": [],
   "source": [
    "spectrum_3C279=name+'_spectra.pdf'"
   ]
  },
  {
   "cell_type": "code",
   "execution_count": null,
   "metadata": {},
   "outputs": [],
   "source": []
  }
 ],
 "metadata": {
  "celltoolbar": "Tags",
  "kernelspec": {
   "display_name": "Python 2",
   "language": "python",
   "name": "python2"
  },
  "language_info": {
   "codemirror_mode": {
    "name": "ipython",
    "version": 2
   },
   "file_extension": ".py",
   "mimetype": "text/x-python",
   "name": "python",
   "nbconvert_exporter": "python",
   "pygments_lexer": "ipython2",
   "version": "2.7.14"
  }
 },
 "nbformat": 4,
 "nbformat_minor": 2
}
