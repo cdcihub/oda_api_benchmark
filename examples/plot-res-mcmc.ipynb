{
 "cells": [
  {
   "cell_type": "code",
   "execution_count": null,
   "metadata": {},
   "outputs": [],
   "source": [
    "import corner"
   ]
  },
  {
   "cell_type": "code",
   "execution_count": null,
   "metadata": {},
   "outputs": [],
   "source": [
    "def plot_results(chain_file,burn=None):\n",
    "    d=np.array(pf.getdata(chain_file))\n",
    "    x=d.view(('>f8', len(d.dtype.names)))\n",
    "    if burn is not None:\n",
    "        x=x[burn::]\n",
    "    print(x.shape)\n",
    "    m=np.zeros(x.shape[0])\n",
    "    s=[]\n",
    "    n=[]\n",
    "    for i in range(0,x.shape[1]-1):\n",
    "        s.append(i)\n",
    "        n.append(d.dtype.names[i])\n",
    "        m=np.logical_or(m,np.isnan(x[:,i]))\n",
    "    x[:,2]=x[:,2]/1E8\n",
    "    x[:,1]=x[:,1]*-1.\n",
    "    plt.plot(x[:,-1])\n",
    "\n",
    "    f=corner.corner(x[:,s],labels=n,quantiles=(0.05,0.5,0.95),verbose=True,show_titles=True,title_kwargs={\"fontsize\": 12})\n",
    "    \n",
    "    for i in range(3): # must be done once per variable\n",
    "        q_05, q_50, q_95 = corner.quantile(x[:,i], [0.05, 0.5, 0.90]) # your x is q_50\n",
    "        dx_down, dx_up = q_50-q_05, q_95-q_50\n",
    "        print('bf=',q_50,\"+\",dx_up,\"-\",dx_down,'range',q_05,q_95)\n",
    "    f.set_dpi(110)"
   ]
  },
  {
   "cell_type": "code",
   "execution_count": null,
   "metadata": {},
   "outputs": [],
   "source": [
    "plot_results('run_1_mcmc_resc_cov_0.125.fits')"
   ]
  },
  {
   "cell_type": "code",
   "execution_count": null,
   "metadata": {},
   "outputs": [],
   "source": [
    "plot_results('run_2_mcmc.fits')"
   ]
  },
  {
   "cell_type": "code",
   "execution_count": null,
   "metadata": {},
   "outputs": [],
   "source": [
    "2.47-0.72"
   ]
  },
  {
   "cell_type": "code",
   "execution_count": null,
   "metadata": {},
   "outputs": [],
   "source": [
    "plot_results('run_1_f_mcmc.fits')"
   ]
  },
  {
   "cell_type": "code",
   "execution_count": null,
   "metadata": {},
   "outputs": [],
   "source": [
    "plot_results('run_1_f_mcmc_chain_cov.fits')"
   ]
  },
  {
   "cell_type": "code",
   "execution_count": null,
   "metadata": {},
   "outputs": [],
   "source": [
    "plot_results('test.fits')"
   ]
  },
  {
   "cell_type": "code",
   "execution_count": null,
   "metadata": {},
   "outputs": [],
   "source": [
    "1.09-0.20"
   ]
  },
  {
   "cell_type": "code",
   "execution_count": null,
   "metadata": {},
   "outputs": [],
   "source": [
    "x=np.arange(100)"
   ]
  },
  {
   "cell_type": "code",
   "execution_count": null,
   "metadata": {},
   "outputs": [],
   "source": [
    "x[10::]"
   ]
  },
  {
   "cell_type": "code",
   "execution_count": null,
   "metadata": {},
   "outputs": [],
   "source": []
  }
 ],
 "metadata": {
  "kernelspec": {
   "display_name": "Python 3",
   "language": "python",
   "name": "python3"
  },
  "language_info": {
   "codemirror_mode": {
    "name": "ipython",
    "version": 3
   },
   "file_extension": ".py",
   "mimetype": "text/x-python",
   "name": "python",
   "nbconvert_exporter": "python",
   "pygments_lexer": "ipython3",
   "version": "3.7.7"
  }
 },
 "nbformat": 4,
 "nbformat_minor": 4
}
