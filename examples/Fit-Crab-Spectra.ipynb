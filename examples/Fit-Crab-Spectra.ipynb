{
 "cells": [
  {
   "cell_type": "code",
   "execution_count": null,
   "metadata": {},
   "outputs": [],
   "source": [
    "import sys,os\n",
    "import numpy as np\n",
    "lib_path=os.path.abspath(\"/home/ferrigno/Soft/pysas\")\n",
    "if lib_path not in sys.path:\n",
    "    sys.path.append(lib_path)\n",
    "else:\n",
    "    print(\"Not appending\")\n",
    "    \n",
    "\n",
    "import pysas"
   ]
  },
  {
   "cell_type": "code",
   "execution_count": null,
   "metadata": {},
   "outputs": [],
   "source": [
    "from astropy.io import fits as pf\n",
    "def set_rsp_syst(s,r,a,sys):\n",
    "    f_f  = pf.open(s, 'update')\n",
    "    f_f[1].header['RESPFILE']=r\n",
    "    f_f[1].header['ANCRFILE']=a\n",
    "    f_f[1].data['SYS_ERR']=sys\n",
    "    f_f.flush()\n",
    "    f_f.close()"
   ]
  },
  {
   "cell_type": "code",
   "execution_count": null,
   "metadata": {},
   "outputs": [],
   "source": [
    "\n",
    "for year in range(2003,2004):\n",
    "    i_spec_file='Crab_%d_spectrum_osa10.fits'%year\n",
    "    i_rmf_file='Crab_%d_rmf_osa10.fits.gz'%year\n",
    "    i_arf_file='Crab_%d_arf_osa10.fits.gz'%year\n",
    "    \n",
    "    i_sys=0.02\n",
    "    \n",
    "    set_rsp_syst(i_spec_file, i_rmf_file, i_arf_file, i_sys)\n",
    "    \n",
    "    j_spec_file='Crab_%d_spectrum_osa10_jemx1.fits'%year\n",
    "    j_rmf_file='Crab_%d_rmf_osa10_jemx1.fits.gz'%year\n",
    "    j_arf_file='Crab_%d_arf_osa10_jemx1.fits.gz'%year\n",
    "    \n",
    "    j_sys=0.02\n",
    "    \n",
    "    set_rsp_syst(j_spec_file, j_rmf_file, j_arf_file, j_sys)\n",
    "    \n",
    "    \n",
    "    \n",
    "    "
   ]
  },
  {
   "cell_type": "code",
   "execution_count": null,
   "metadata": {},
   "outputs": [],
   "source": [
    "import xspec\n",
    "verbose=True\n",
    "mod_file='mod_2bknpow.xcm'\n",
    "verbose=True\n",
    "\n",
    "\n",
    "chains=[]\n",
    "fit_by_bin={}\n",
    "\n",
    "for year in range(2003,2019):\n",
    "\n",
    "    isgri_spec='Crab_%d_spectrum_osa10.fits'%year\n",
    "    jemx1_spec='Crab_%d_spectrum_osa10_jemx1.fits'%year\n",
    "    outputfiles_basename='%d'%year+'-'+mod_file.replace('mod_','').replace('.xcm','')+\"-\"\n",
    "    print(outputfiles_basename)\n",
    "    run_chain=False\n",
    "    load_chain=False\n",
    "    perform_fit=True\n",
    "    ignore_string=['**-20.0, 300.0-**', '**-3.5,20.0-**']\n",
    "    if year == 2003:\n",
    "        ignore_string=['**-30.0, 300.0-**', '**-3.5,20.0-**']\n",
    "    chain_name, fit_res =pysas.epic_xspec_mcmc_fit(xspec, mod_file, \n",
    "                                outputfiles_basename = outputfiles_basename,\n",
    "                                pn_spec = isgri_spec,\n",
    "                                mos1_spec = jemx1_spec,\n",
    "                                mos2_spec = 'none', \n",
    "                                jeffreys_priors=[],\n",
    "                                ignore_string=ignore_string,\n",
    "                                load_chain=load_chain, perform_fit=True, set_priors=True, walkers=40, \n",
    "                                               run_chain=run_chain,\n",
    "                                               compute_errors=True, save_xcm=True, statistics='chi' )\n",
    "    chains.append(chain_name)\n",
    "    \n",
    "    #exposure, tstart, tstop = pysas.get_spec_exp_times(ss)\n",
    "    \n",
    "    #print(tstart, tstop)\n",
    "    \n",
    "    exposure, tstart, tstop = pysas.get_spec_exp_times(isgri_spec)\n",
    "    fit_res.update( {'times': [tstart,tstop] } )\n",
    "        \n",
    "    fit_by_bin.update({outputfiles_basename : fit_res})"
   ]
  },
  {
   "cell_type": "code",
   "execution_count": null,
   "metadata": {},
   "outputs": [],
   "source": [
    "fit_by_bin"
   ]
  },
  {
   "cell_type": "code",
   "execution_count": null,
   "metadata": {},
   "outputs": [],
   "source": [
    "latex_label_dict = {\n",
    "    'cstat' : '$\\\\chi^2_\\\\mathrm{red}$',\n",
    "    'lg10Flux__03' : '$\\\\log(F_\\\\mathrm{20-100keV})$',\n",
    "    'lg10Flux__12' : '$\\\\log(F_\\\\mathrm{5-20keV})$',\n",
    "    'PhoIndx1__04' : '$\\\\Gamma_1$',\n",
    "    'PhoIndx2__06' : '$\\\\Gamma_2$',\n",
    "    'PhoIndx3__08' : '$\\\\Gamma_3$'\n",
    "}"
   ]
  },
  {
   "cell_type": "code",
   "execution_count": null,
   "metadata": {},
   "outputs": [],
   "source": [
    "pysas.plot_fit_parameters_norate(fit_by_bin, plot_latex=True, latex_label_dict=latex_label_dict,\n",
    "                               skipped=['factor', 'plot_filename'], save_plot=True,\n",
    "                               xlabel='Time [MJD-51544]', title='Crab', log_scale_labels=[])"
   ]
  },
  {
   "cell_type": "code",
   "execution_count": null,
   "metadata": {},
   "outputs": [],
   "source": [
    "!pdfcrop spec_results_Crab.pdf\n",
    "!mv spec_results_Crab-crop.pdf spec_results_Crab.pdf\n"
   ]
  },
  {
   "cell_type": "code",
   "execution_count": null,
   "metadata": {},
   "outputs": [],
   "source": [
    "%matplotlib notebook\n",
    "import matplotlib.pyplot as plt\n",
    "from matplotlib.ticker import ScalarFormatter, FormatStrFormatter\n",
    "\n",
    "plt.figure(figsize=(10,7))\n",
    "\n",
    "for year in range(2003,2019):\n",
    "    outputfiles_basename='%d'%year+'-'+mod_file.replace('mod_','').replace('.xcm','')+\"-\"\n",
    "    print(outputfiles_basename)\n",
    "    xspec.Xset.restore(outputfiles_basename+'model.xcm')\n",
    "    xspec.Plot.device='/NULL'\n",
    "    xspec.Plot('eeuf')\n",
    "    xspec.Plot.setRebin(15,20)\n",
    "    \n",
    "    \n",
    "    en=xspec.Plot.x(1)\n",
    "    en_err=xspec.Plot.xErr(1)\n",
    "    fl=xspec.Plot.y(1)\n",
    "    fl_err=xspec.Plot.yErr(1)    \n",
    "    mo=xspec.Plot.model(1)\n",
    "    \n",
    "    plt.errorbar(en,fl,xerr=en_err,yerr=fl_err,linestyle='none',linewidth=8,color='blue',alpha=0.1)\n",
    "    plt.plot(en,mo,color='black',linewidth=4,alpha=0.1)\n",
    "    \n",
    "    en=xspec.Plot.x(2)\n",
    "    en_err=xspec.Plot.xErr(2)\n",
    "    fl=xspec.Plot.y(2)\n",
    "    fl_err=xspec.Plot.yErr(2)\n",
    "    mo=xspec.Plot.model(2)\n",
    "    \n",
    "    plt.errorbar(en,fl,xerr=en_err,yerr=fl_err,linestyle='none',linewidth=8,color='blue',alpha=0.1)\n",
    "    plt.plot(en,mo,color='black',linewidth=4,alpha=0.1)\n",
    "    \n",
    "\n",
    "\n",
    "plt.tick_params(axis='both', which='major', labelsize=16)\n",
    "plt.text(5,10,'JEMX-1',fontsize=16)\n",
    "plt.text(50,8,'IBIS/ISGRI',fontsize=16)\n",
    "\n",
    "plt.xscale('log')\n",
    "plt.yscale('log')\n",
    "plt.ylim(2,15.)\n",
    "plt.xlim(3,300)\n",
    "plt.xlabel('$E$ [keV]',fontsize=16)\n",
    "plt.ylabel('$E^2F_E$ [keV cm$^{-2}$ s$^{-2}$)',fontsize=16)\n",
    "\n",
    "ax=plt.gca()\n",
    "ax.xaxis.set_major_formatter(FormatStrFormatter('%.0f'))\n",
    "ax.yaxis.set_major_formatter(FormatStrFormatter('%.0f'))\n",
    "ax.yaxis.set_minor_formatter(FormatStrFormatter('%.0f'))\n",
    "ax.tick_params(axis='both', which='major', labelsize=16)\n",
    "ax.tick_params(axis='both', which='minor', labelsize=16)\n",
    "\n",
    "#plt.legend(loc='lower left',fontsize=16)\n",
    "plt.savefig('Crab_spectrum1.pdf',format='pdf',dpi=100)"
   ]
  }
 ],
 "metadata": {
  "kernelspec": {
   "display_name": "Python 3",
   "language": "python",
   "name": "python3"
  },
  "language_info": {
   "codemirror_mode": {
    "name": "ipython",
    "version": 3
   },
   "file_extension": ".py",
   "mimetype": "text/x-python",
   "name": "python",
   "nbconvert_exporter": "python",
   "pygments_lexer": "ipython3",
   "version": "3.8.5"
  }
 },
 "nbformat": 4,
 "nbformat_minor": 4
}
